{
 "cells": [
  {
   "cell_type": "code",
   "execution_count": 1,
   "id": "8baa1d8b",
   "metadata": {
    "scrolled": true
   },
   "outputs": [],
   "source": [
    "from transformers import PegasusTokenizer, PegasusForConditionalGeneration\n",
    "from bs4 import BeautifulSoup\n",
    "import requests"
   ]
  },
  {
   "cell_type": "markdown",
   "id": "2e31e66c",
   "metadata": {},
   "source": [
    "## Make summarization model"
   ]
  },
  {
   "cell_type": "code",
   "execution_count": 2,
   "id": "475c0a47",
   "metadata": {},
   "outputs": [
    {
     "data": {
      "application/vnd.jupyter.widget-view+json": {
       "model_id": "b78b21874f5d4bf3b486d67bee2e3a1c",
       "version_major": 2,
       "version_minor": 0
      },
      "text/plain": [
       "Downloading:   0%|          | 0.00/1.27k [00:00<?, ?B/s]"
      ]
     },
     "metadata": {},
     "output_type": "display_data"
    },
    {
     "data": {
      "application/vnd.jupyter.widget-view+json": {
       "model_id": "fcd77c8cc0334f68831424dda47345fd",
       "version_major": 2,
       "version_minor": 0
      },
      "text/plain": [
       "Downloading:   0%|          | 0.00/2.28G [00:00<?, ?B/s]"
      ]
     },
     "metadata": {},
     "output_type": "display_data"
    }
   ],
   "source": [
    "model_name = \"human-centered-summarization/financial-summarization-pegasus\"\n",
    "tokenizer = PegasusTokenizer.from_pretrained(model_name)\n",
    "model = PegasusForConditionalGeneration.from_pretrained(model_name)"
   ]
  },
  {
   "cell_type": "markdown",
   "id": "e6b1a36f",
   "metadata": {},
   "source": [
    "## Summarize one article"
   ]
  },
  {
   "cell_type": "code",
   "execution_count": 4,
   "id": "853af2ef",
   "metadata": {},
   "outputs": [],
   "source": [
    "url = \"https://finance.yahoo.com/news/palantir-could-dominate-data-field-105336199.html\"\n",
    "r = requests.get(url)\n",
    "soup = BeautifulSoup(r.text, 'html.parser')\n",
    "paragraphs = soup.find_all('p')"
   ]
  },
  {
   "cell_type": "code",
   "execution_count": 7,
   "id": "015bb8d5",
   "metadata": {},
   "outputs": [
    {
     "data": {
      "text/plain": [
       "[<p>Palantir <strong>(</strong><a class=\"link rapid-noclick-resp\" data-ylk=\"slk:PLTR\" href=\"https://www.tipranks.com/stocks/pltr/forecast\" rel=\"nofollow noopener\" target=\"_blank\"><strong>PLTR</strong></a><strong>) </strong>is a leading data analytics and artificial intelligence software company with a mission of ensuring that the West achieves dominance in the exploding world of data and machine learning.</p>,\n",
       " <p>The company's primary customer for its first two decades of operation has been the United States Government, through its Gotham platform. Now the company is investing heavily in growing its Foundry platform, which services medium and large sized companies. It is also growing its Gotham platform to include a greater piece of the United States Government’s spending as well as defense contractors and allied governments. (See <a class=\"link rapid-noclick-resp\" data-ylk=\"slk:Palantir stock analysis\" href=\"https://www.tipranks.com/stocks/pltr/stock-analysis\" rel=\"nofollow noopener\" target=\"_blank\">Palantir stock analysis</a> on TipRanks)</p>,\n",
       " <p><strong>Growing Rapidly</strong></p>,\n",
       " <p>The main value for PLTR currently comes from its world-class data analytics and artificial intelligence platforms. These enable government agencies and corporations to manage, extract significant value from, and optimize large troves of data. They also provide a very rapid and user-friendly data integration and set-up experience.</p>,\n",
       " <p>As a result of the value they add to an organization as well as the mission critical nature of their industry, Palantir is able to command significant switching costs, and therefore enjoys pricing power and sticky customer relationships that often see contracts expand over time.</p>,\n",
       " <p>The company is experiencing rapid growth across its businesses, particularly in the United States, and management is investing aggressively to recruit and retain the best engineers and sales personnel. It is striving to deliver the highest quality product possible while also scaling the business as rapidly as they can.</p>,\n",
       " <p>They company seeks to gain a larger portion of the pie of its ~$120 billion total addressable market. Currently, it has only ~1% of that total market, so the company enjoys a massive growth runway. Management projects that the company will grow by at least 30% per year for the foreseeable future, which should enable it to become the major – if not dominant – data analytics players in its target markets by the end of this decade.</p>,\n",
       " <p><strong>Facing Headwinds</strong></p>,\n",
       " <p>That said, the company does face a few potential headwinds – one external and one internal. While its Gotham platform enjoys a wide moat thanks to its increasingly mission critical role in the United States’ defense technology infrastructure, its Foundry platform has a tougher hill to climb. Foundry is quite expensive, and is therefore unaffordable for many companies who might be better served by a cheaper alternative from one of many capable competitors.</p>,\n",
       " <p>Furthermore, the company is currently issuing large amounts of stock-based compensation to employees, which destroys profitability and dilutes existing shareholders considerably.</p>,\n",
       " <p><strong>Valuation Metrics</strong></p>,\n",
       " <p>Despite these headwinds, PLTR is nonetheless a high-quality company and is an odds-on favorite to be a major player in its field for years – if not decades – to come. Additionally, the valuation is not as far-fetched as it may seem, as the company is well on pace to achieve 40% adjusted operating margins.</p>,\n",
       " <p>The company continues to scale at 25%-35% revenue growth per year. That would generate sufficient profitability (even when accounting for the hefty stock-based compensation) to drive double-digit annualized total returns for the stock over the next decade.</p>,\n",
       " <p><strong>Wall Street’s Take</strong></p>,\n",
       " <p>From Wall Street analysts, PLTR earns a Hold analyst consensus based on 2 Buy ratings, 3 Hold ratings, and 4 Sell ratings in the past 3 months. Additionally, the <a class=\"link rapid-noclick-resp\" data-ylk=\"slk:average analyst price target\" href=\"https://www.tipranks.com/stocks/pltr/forecast\" rel=\"nofollow noopener\" target=\"_blank\">average analyst price target</a> of $21.75 puts the downside potential at 5.23%.</p>,\n",
       " <p><strong>Summary and Conclusions</strong></p>,\n",
       " <p>PLTR has tremendous upside potential and is well-positioned to emerge a winner in the data analytics and machine learning space. It stands to shine particularly in assisting Western government agencies with high-priority missions and in helping large corporations with unlocking and optimizing their use of large swathes of data.</p>,\n",
       " <p>The business is likely to experience rapid growth over the next decade and beyond, which could deliver strong returns for shareholders. That being said, investors should remain cautious, given the challenges the company faces. Commercial competition, stock-based compensation, and Wall Street’s neutral stance on the current valuation are all valid reasons for hesitation.</p>,\n",
       " <p><em>Disclosure: On the date of publication, Samuel Smith had a long position in PLTR.</em></p>,\n",
       " <p><em>Disclaimer</em>: <em>The information contained herein is for informational purposes only. Nothing in this article should be taken as a solicitation to purchase or sell securities.</em></p>,\n",
       " <p class=\"Va(m) Fw(b) Fz(s) C($primaryColor) Wow(bw) Us(n)\"><span>Related Quotes</span></p>,\n",
       " <p class=\"M(0) C($summaryColor) Fz(14px) Lh(1.43em) LineClamp(3,60px)\">Shares of chip giant Broadcom (NASDAQ: AVGO) are having a great year.  The stock price is up 46% over the last 12-month stretch -- including up 10% so far in 2021 -- as the global chip shortage is sending sales higher.  The dividend Broadcom offers sweetens the deal, currently yielding 3% a year.</p>,\n",
       " <p class=\"M(0) C($summaryColor) Fz(14px) Lh(1.43em) LineClamp(3,60px)\">(Bloomberg) -- The troubled owner of Jessica Simpson’s brand is nearing a deal to sell its majority stake in the fashion line back to the singer and offload other assets as part of a potential Chapter 11 bankruptcy filing, according to people with knowledge of the plans.Sequential Brands Group Inc. had been seeking to sell off its assets to avoid a cash crunch while it negotiated with creditors, but is now preparing to unload its brands under a process that will likely take place in court, said</p>,\n",
       " <p class=\"M(0) C($summaryColor) Fz(14px) Lh(1.43em) LineClamp(3,60px)\">Bitcoin fell to a three-week low on Tuesday amid signs of  institutional investor caution, while the head of the U.S. Internal Revenue Service called for lawmakers to provide authority for tighter reporting rules on crypto transfers.  IRS chief Charles Rettig said on Tuesday that Congress needs to provide clear statutory authority for the tax agency to collect information on cryptocurrency transfers valued at over $10,000 that largely go unreported.  Rettig said before the Senate Finance Committee that cryptocurrency market capitalization is over $2 trillion, with more than 8,600 exchanges worldwide.</p>,\n",
       " <p class=\"M(0) C($summaryColor) Fz(14px) Lh(1.43em) LineClamp(3,60px)\">(Bloomberg) -- China Southern Power Grid Co. is in talks to acquire about a 10% stake in Abu Dhabi National Energy Co., the oil-rich emirate’s biggest utility, people with knowledge of the matter said.The Chinese state-owned firm is in discussions with banks about financing for the potential purchase, said the people, who asked not to be identified as the information is confidential. A 10% stake in the company, known as Taqa, could be worth about $4.2 billion based on its current share price.If</p>,\n",
       " <p class=\"M(0) C($summaryColor) Fz(14px) Lh(1.43em) LineClamp(3,60px)\">GBP/USD lacks momentum and continues to trade near the 20 EMA.</p>,\n",
       " <p class=\"M(0) C($summaryColor) Fz(14px) Lh(1.43em) LineClamp(3,60px)\">(Bloomberg) -- Singapore’s Grab Holdings Inc. postponed the expected completion of its merger with a U.S. blank-check company as the ride-hailing and food-delivery giant works on a financial audit of the past three years.The deal, set to be one of the largest-ever mergers with a blank-check company, is now expected to be completed in the fourth quarter of this year, the company said in a statement on Wednesday. When announcing the merger in April, Grab expected completion in the third quarter.Gr</p>,\n",
       " <p class=\"M(0) C($summaryColor) Fz(14px) Lh(1.43em) LineClamp(3,60px)\">Both are due Thursday, and investors have adopted a wait-and-see attitude, leaving major currencies mostly range-bound recently.  With the ECB, investors will be watching for any clues of an imminent slowdown to its bond buying program.  The Bank of Canada on Wednesday left its key interest rate unchanged as expected, and said it would maintain its current policy of quantitative easing.</p>,\n",
       " <p class=\"M(0) C($summaryColor) Fz(14px) Lh(1.43em) LineClamp(3,60px)\">Some stocks are quick to grab our attention. These may be companies with the next ‘in’ thing, in society or technology, or they may be stocks that bring a high dividend, or they may be the stocks that have shown strong recent gains. Let’s talk about that last, because following the fast-growing stocks is a strategy that many investors prefer. Call it momentum investing; seeking out the stocks that have built up a head of steam in their recent gains – and are poised to keep going. It’s a financia</p>,\n",
       " <p class=\"M(0) C($summaryColor) Fz(14px) Lh(1.43em) LineClamp(3,60px)\">The Indian rupee slipped against the U.S. dollar for the second straight day on Wednesday amid weakness in domestic equity markets, which fell from record highs due to losses in energy and financial stocks.</p>,\n",
       " <p class=\"M(0) C($summaryColor) Fz(14px) Lh(1.43em) LineClamp(3,60px)\">Dogecoin is following the leader and riding bitcoin’s coattails to gains.</p>,\n",
       " <p class=\"M(0) C($summaryColor) Fz(14px) Lh(1.43em) LineClamp(3,60px)\">(Bloomberg) -- Bitcoin slumped to a two-week low, with analysts pointing to a technical breakdown as well as the recovery of Colonial Pipeline Co.’s ransom as evidence that crypto isn’t beyond government control.The largest token tumbled as much as 9.9% to $31,036, though it recouped some of those losses to trade around $32,363 as of 2:31 p.m. in New York. The Bloomberg Galaxy Crypto Index fell as much as 15% before also paring losses by mid-afternoon. Altcoins such as Ether, Litecoin and EOS al</p>,\n",
       " <p class=\"M(0) C($summaryColor) Fz(14px) Lh(1.43em) LineClamp(3,60px)\">See: The military is giving me retirement and disability pay — but will it be enough to retire at 48?  It looks like you’re already well on your way to being comfortable in retirement, what with your rental income, retirement assets and savings.  “The biggest thing that struck me was the liquidity,” said Curtis Sheldon, president and lead planner of C.L. Sheldon &amp; Company, a veteran who now specializes in working with transitioning service members.</p>,\n",
       " <p class=\"M(0) C($summaryColor) Fz(14px) Lh(1.43em) LineClamp(3,60px)\">More Americans than ever are quitting their jobs, making it even harder for companies to fill a record number of job openings.</p>,\n",
       " <p class=\"M(0) C($summaryColor) Fz(14px) Lh(1.43em) LineClamp(3,60px)\">Chewy co-founder Ryan Cohen addressed shareholders of the videogame company, telling them to \"buckle up.\"</p>,\n",
       " <p class=\"M(0) C($summaryColor) Fz(14px) Lh(1.43em) LineClamp(3,60px)\">'They would take anybody in off the street and help them learn what they need to know to start.'</p>,\n",
       " <p class=\"M(0) C($summaryColor) Fz(14px) Lh(1.43em) LineClamp(3,60px)\">Long before an investigative news outlet sifted through high-profile billionaires’ tax returns to reveal that their income tax bills were a mere fraction of their wealth, Joe Biden — first on the campaign trail and then in the White House — was saying the rich need to pay more taxes.  Biden wants to nudge the top income tax rate from 37% to 39.6% and he wants to increase the capital gains rate to 39.6% for millionaires — but what will that do to the super-rich who live off their riches, borrow against their wealth and pull down nominal salaries?</p>,\n",
       " <p class=\"M(0) C($summaryColor) Fz(14px) Lh(1.43em) LineClamp(3,60px)\">And even more are on the way, thanks to President Biden's COVID rescue package.</p>,\n",
       " <p class=\"M(0) C($summaryColor) Fz(14px) Lh(1.43em) LineClamp(3,60px)\">Billionaires including Amazon founder Jeff Bezos, Tesla founder Elon Musk and media titan Michael Bloomberg have avoided paying any federal income tax in some years, according to a report from ProPublica, which cited a trove of Internal Revenue Service data.</p>,\n",
       " <p class=\"M(0) C($summaryColor) Fz(14px) Lh(1.43em) LineClamp(3,60px)\">A 1914 Babe Ruth pre-rookie minor league baseball card valued at $6 million will soon be available for purchase in three-dollar increments.  Last week, this exact Babe Ruth card broke the record for the most expensive sports card transaction in history, according to Sports memorabilia investment platform Collectable, and now its anonymous buyer is selling equity in his million-dollar card.  The buyer is offering shares of his ultra-rare 1914 Baltimore News Babe Ruth card on Collectable for three dollars a share.</p>,\n",
       " <p class=\"M(0) C($summaryColor) Fz(14px) Lh(1.43em) LineClamp(3,60px)\">(Bloomberg) -- Clover Health Inc., a health insurer backed by venture capitalist Chamath Palihapitiya, was swept up in meme-stock mania on Tuesday, posting a second day of wild gains as retail investors banded together to punish short-sellers betting against the company.Clover rallied 86% to close at $22.15 in New York trading after briefly doubling intraday. The gains erased five months of losses in the stock -- which formed part of a broader selloff in Palihapitiya-backed companies -- in just</p>]"
      ]
     },
     "execution_count": 7,
     "metadata": {},
     "output_type": "execute_result"
    }
   ],
   "source": [
    "paragraphs"
   ]
  },
  {
   "cell_type": "code",
   "execution_count": 29,
   "id": "aa14e2d6",
   "metadata": {},
   "outputs": [],
   "source": [
    "text = [paragraph.text for paragraph in paragraphs]\n",
    "words = ' '.join(text).split(' ')[:400]\n",
    "ARTICLE = ' '.join(words)"
   ]
  },
  {
   "cell_type": "code",
   "execution_count": 30,
   "id": "0d10ac8c",
   "metadata": {},
   "outputs": [
    {
     "data": {
      "text/plain": [
       "\"Palantir (PLTR) is a leading data analytics and artificial intelligence software company with a mission of ensuring that the West achieves dominance in the exploding world of data and machine learning. The company's primary customer for its first two decades of operation has been the United States Government, through its Gotham platform. Now the company is investing heavily in growing its Foundry platform, which services medium and large sized companies. It is also growing its Gotham platform to include a greater piece of the United States Government’s spending as well as defense contractors and allied governments. (See Palantir stock analysis on TipRanks) Growing Rapidly The main value for PLTR currently comes from its world-class data analytics and artificial intelligence platforms. These enable government agencies and corporations to manage, extract significant value from, and optimize large troves of data. They also provide a very rapid and user-friendly data integration and set-up experience. As a result of the value they add to an organization as well as the mission critical nature of their industry, Palantir is able to command significant switching costs, and therefore enjoys pricing power and sticky customer relationships that often see contracts expand over time. The company is experiencing rapid growth across its businesses, particularly in the United States, and management is investing aggressively to recruit and retain the best engineers and sales personnel. It is striving to deliver the highest quality product possible while also scaling the business as rapidly as they can. They company seeks to gain a larger portion of the pie of its ~$120 billion total addressable market. Currently, it has only ~1% of that total market, so the company enjoys a massive growth runway. Management projects that the company will grow by at least 30% per year for the foreseeable future, which should enable it to become the major – if not dominant – data analytics players in its target markets by the end of this decade. Facing Headwinds That said, the company does face a few potential headwinds – one external and one internal. While its Gotham platform enjoys a wide moat thanks to its increasingly mission critical role in the United States’ defense technology infrastructure, its Foundry platform has a tougher hill to climb. Foundry is quite expensive, and is therefore unaffordable for many companies who might be better served by a cheaper alternative from one of many capable competitors. Furthermore, the\""
      ]
     },
     "execution_count": 30,
     "metadata": {},
     "output_type": "execute_result"
    }
   ],
   "source": [
    "ARTICLE"
   ]
  },
  {
   "cell_type": "code",
   "execution_count": 31,
   "id": "27dbafa8",
   "metadata": {},
   "outputs": [],
   "source": [
    "input_ids = tokenizer.encode(ARTICLE, return_tensors='pt')\n",
    "output = model.generate(input_ids, max_length=80, num_beams=5, early_stopping=True)\n",
    "summary = tokenizer.decode(output[0], skip_special_tokens=True)"
   ]
  },
  {
   "cell_type": "code",
   "execution_count": 32,
   "id": "dc7a5dc8",
   "metadata": {},
   "outputs": [
    {
     "data": {
      "text/plain": [
       "'Company is investing heavily in its Foundry platform. Management projects that the company will grow by at least 30% per year'"
      ]
     },
     "execution_count": 32,
     "metadata": {},
     "output_type": "execute_result"
    }
   ],
   "source": [
    "summary"
   ]
  },
  {
   "cell_type": "markdown",
   "id": "8d90e577",
   "metadata": {},
   "source": [
    "## Make news and sentiment pipeline"
   ]
  },
  {
   "cell_type": "code",
   "execution_count": 34,
   "id": "65f73d3c",
   "metadata": {},
   "outputs": [],
   "source": [
    "monitored_tickers = ['PLTR', 'BB', 'SNPS']"
   ]
  },
  {
   "cell_type": "markdown",
   "id": "f63c5a3f",
   "metadata": {},
   "source": [
    "## Search for news with google and yahoo finance"
   ]
  },
  {
   "cell_type": "code",
   "execution_count": 36,
   "id": "bac58441",
   "metadata": {},
   "outputs": [],
   "source": [
    "def search_stock_news_urls(ticker):\n",
    "    search_url = \"https://www.google.com/search?q=yahoo+finance+{}&rlz=1C5CHFA_enUS831US831&source=lnms&tbm=nws&sa=X&ved=2ahUKEwj4zJvp25fxAhVCLn0KHXZEBcEQ_AUoAXoECAEQAw&biw=1200&bih=688&dpr=2\".format(ticker)\n",
    "    r = requests.get(search_url)\n",
    "    soup = BeautifulSoup(r.text, 'html.parser')\n",
    "    atags = soup.find_all('a')\n",
    "    hrefs = [link['href'] for link in atags]\n",
    "    return hrefs"
   ]
  },
  {
   "cell_type": "code",
   "execution_count": 37,
   "id": "a932caa0",
   "metadata": {},
   "outputs": [],
   "source": [
    "search_url = \"https://www.google.com/search?q=yahoo+finance+{}&rlz=1C5CHFA_enUS831US831&source=lnms&tbm=nws&sa=X&ved=2ahUKEwj4zJvp25fxAhVCLn0KHXZEBcEQ_AUoAXoECAEQAw&biw=1200&bih=688&dpr=2\".format('PLTR')"
   ]
  },
  {
   "cell_type": "code",
   "execution_count": 38,
   "id": "1b36ddd7",
   "metadata": {},
   "outputs": [
    {
     "data": {
      "text/plain": [
       "'https://www.google.com/search?q=yahoo+finance+PLTR&rlz=1C5CHFA_enUS831US831&source=lnms&tbm=nws&sa=X&ved=2ahUKEwj4zJvp25fxAhVCLn0KHXZEBcEQ_AUoAXoECAEQAw&biw=1200&bih=688&dpr=2'"
      ]
     },
     "execution_count": 38,
     "metadata": {},
     "output_type": "execute_result"
    }
   ],
   "source": [
    "search_url"
   ]
  },
  {
   "cell_type": "code",
   "execution_count": 39,
   "id": "e8af977d",
   "metadata": {
    "scrolled": true
   },
   "outputs": [
    {
     "data": {
      "text/plain": [
       "['/?sa=X&ved=0ahUKEwjC4Pal3pfxAhWSJTQIHc85AbIQOwgC',\n",
       " '/search?q=yahoo+finance+PLTR&tbm=nws&sa=X&rlz=1C5CHFA_enUS831US831&biw=1200&bih=688&ie=UTF-8&gbv=1&sei=nZ3HYIKeA5LL0PEPz_OEkAs',\n",
       " '/search?q=yahoo+finance+PLTR&rlz=1C5CHFA_enUS831US831&biw=1200&bih=688&ie=UTF-8&source=lnms&sa=X&ved=0ahUKEwjC4Pal3pfxAhWSJTQIHc85AbIQ_AUIBSgA',\n",
       " '/search?q=yahoo+finance+PLTR&rlz=1C5CHFA_enUS831US831&biw=1200&bih=688&ie=UTF-8&tbm=shop&source=lnms&sa=X&ved=0ahUKEwjC4Pal3pfxAhWSJTQIHc85AbIQ_AUIBygC',\n",
       " '/search?q=yahoo+finance+PLTR&rlz=1C5CHFA_enUS831US831&biw=1200&bih=688&ie=UTF-8&tbm=vid&source=lnms&sa=X&ved=0ahUKEwjC4Pal3pfxAhWSJTQIHc85AbIQ_AUICCgD',\n",
       " '/search?q=yahoo+finance+PLTR&rlz=1C5CHFA_enUS831US831&biw=1200&bih=688&ie=UTF-8&tbm=isch&source=lnms&sa=X&ved=0ahUKEwjC4Pal3pfxAhWSJTQIHc85AbIQ_AUICSgE',\n",
       " 'https://maps.google.com/maps?q=yahoo+finance+PLTR&rlz=1C5CHFA_enUS831US831&biw=1200&bih=688&dpr=2&um=1&ie=UTF-8&sa=X&ved=0ahUKEwjC4Pal3pfxAhWSJTQIHc85AbIQ_AUICigF',\n",
       " '/search?q=yahoo+finance+PLTR&rlz=1C5CHFA_enUS831US831&biw=1200&bih=688&ie=UTF-8&tbm=bks&source=lnms&sa=X&ved=0ahUKEwjC4Pal3pfxAhWSJTQIHc85AbIQ_AUICygG',\n",
       " '/advanced_search',\n",
       " '/search?q=yahoo+finance+PLTR&rlz=1C5CHFA_enUS831US831&biw=1200&bih=688&ie=UTF-8&tbm=nws&source=lnt&tbs=qdr:h&sa=X&ved=0ahUKEwjC4Pal3pfxAhWSJTQIHc85AbIQpwUIDQ',\n",
       " '/search?q=yahoo+finance+PLTR&rlz=1C5CHFA_enUS831US831&biw=1200&bih=688&ie=UTF-8&tbm=nws&source=lnt&tbs=qdr:d&sa=X&ved=0ahUKEwjC4Pal3pfxAhWSJTQIHc85AbIQpwUIDg',\n",
       " '/search?q=yahoo+finance+PLTR&rlz=1C5CHFA_enUS831US831&biw=1200&bih=688&ie=UTF-8&tbm=nws&source=lnt&tbs=qdr:w&sa=X&ved=0ahUKEwjC4Pal3pfxAhWSJTQIHc85AbIQpwUIDw',\n",
       " '/search?q=yahoo+finance+PLTR&rlz=1C5CHFA_enUS831US831&biw=1200&bih=688&ie=UTF-8&tbm=nws&source=lnt&tbs=qdr:m&sa=X&ved=0ahUKEwjC4Pal3pfxAhWSJTQIHc85AbIQpwUIEA',\n",
       " '/search?q=yahoo+finance+PLTR&rlz=1C5CHFA_enUS831US831&biw=1200&bih=688&ie=UTF-8&tbm=nws&source=lnt&tbs=qdr:y&sa=X&ved=0ahUKEwjC4Pal3pfxAhWSJTQIHc85AbIQpwUIEQ',\n",
       " '/search?q=yahoo+finance+PLTR&rlz=1C5CHFA_enUS831US831&biw=1200&bih=688&ie=UTF-8&tbm=nws&source=lnt&tbs=ar:1&sa=X&ved=0ahUKEwjC4Pal3pfxAhWSJTQIHc85AbIQpwUIEg',\n",
       " '/search?q=yahoo+finance+PLTR&rlz=1C5CHFA_enUS831US831&biw=1200&bih=688&ie=UTF-8&tbm=nws&source=lnt&tbs=sbd:1&sa=X&ved=0ahUKEwjC4Pal3pfxAhWSJTQIHc85AbIQpwUIFA',\n",
       " '/url?q=https://finance.yahoo.com/news/better-meme-stock-wendys-palantir-132440594.html&sa=U&ved=2ahUKEwjC4Pal3pfxAhWSJTQIHc85AbIQxfQBMAB6BAgDEAE&usg=AOvVaw1fiX0SScCC7edmC8X1T-fT',\n",
       " '/url?q=https://finance.yahoo.com/news/better-meme-stock-wendys-palantir-132440594.html&sa=U&ved=2ahUKEwjC4Pal3pfxAhWSJTQIHc85AbIQ0Y8FMAB6BAgDEAI&usg=AOvVaw1KXRWQ1eN572yBNo8sDsUV',\n",
       " '/url?q=https://finance.yahoo.com/news/palantir-could-dominate-data-field-105336199.html&sa=U&ved=2ahUKEwjC4Pal3pfxAhWSJTQIHc85AbIQxfQBMAF6BAgHEAE&usg=AOvVaw2KXXA__dAmKZItEi4o3p9-',\n",
       " '/url?q=https://finance.yahoo.com/news/palantir-could-dominate-data-field-105336199.html&sa=U&ved=2ahUKEwjC4Pal3pfxAhWSJTQIHc85AbIQ0Y8FMAF6BAgHEAI&usg=AOvVaw00pfdFNrT6Xexce4gyFZ22',\n",
       " '/url?q=https://finance.yahoo.com/news/palantir-technologies-wins-united-states-170328779.html&sa=U&ved=2ahUKEwjC4Pal3pfxAhWSJTQIHc85AbIQxfQBMAJ6BAgIEAE&usg=AOvVaw25iTkVJd6d2zu0n__-MJkO',\n",
       " '/url?q=https://finance.yahoo.com/news/palantir-technologies-wins-united-states-170328779.html&sa=U&ved=2ahUKEwjC4Pal3pfxAhWSJTQIHc85AbIQ0Y8FMAJ6BAgIEAI&usg=AOvVaw0bBDgBrkgUQlKIxargd2B5',\n",
       " '/url?q=https://finance.yahoo.com/news/palantir-vs-splunk-data-analytics-164334452.html&sa=U&ved=2ahUKEwjC4Pal3pfxAhWSJTQIHc85AbIQxfQBMAN6BAgJEAE&usg=AOvVaw0xWFVIBTZhSmf_ogkl2f0H',\n",
       " '/url?q=https://finance.yahoo.com/news/palantir-vs-splunk-data-analytics-164334452.html&sa=U&ved=2ahUKEwjC4Pal3pfxAhWSJTQIHc85AbIQ0Y8FMAN6BAgJEAI&usg=AOvVaw3e5N8CFVdpnJX9R7kKLMop',\n",
       " '/url?q=https://finance.yahoo.com/news/palantir-technologies-strikes-32-5m-120110104.html&sa=U&ved=2ahUKEwjC4Pal3pfxAhWSJTQIHc85AbIQxfQBMAR6BAgFEAE&usg=AOvVaw35zbaGE2njFMz2j9wn8v1q',\n",
       " '/url?q=https://finance.yahoo.com/news/palantir-technologies-strikes-32-5m-120110104.html&sa=U&ved=2ahUKEwjC4Pal3pfxAhWSJTQIHc85AbIQ0Y8FMAR6BAgFEAI&usg=AOvVaw3KELL6x7_YW_wCrE2C4xEb',\n",
       " '/url?q=https://finance.yahoo.com/news/10-best-saas-stocks-buy-170819461.html&sa=U&ved=2ahUKEwjC4Pal3pfxAhWSJTQIHc85AbIQxfQBMAV6BAgBEAE&usg=AOvVaw0QHxhsKVARRkEeVCaT7PAo',\n",
       " '/url?q=https://finance.yahoo.com/news/10-best-saas-stocks-buy-170819461.html&sa=U&ved=2ahUKEwjC4Pal3pfxAhWSJTQIHc85AbIQ0Y8FMAV6BAgBEAI&usg=AOvVaw2n_cdanbxz4i8qCZy6Xruk',\n",
       " '/url?q=https://finance.yahoo.com/news/george-soros-firm-finally-exits-230142049.html&sa=U&ved=2ahUKEwjC4Pal3pfxAhWSJTQIHc85AbIQxfQBMAZ6BAgAEAE&usg=AOvVaw3DZ7SWaNfne_BbfHxZEeBh',\n",
       " '/url?q=https://finance.yahoo.com/news/george-soros-firm-finally-exits-230142049.html&sa=U&ved=2ahUKEwjC4Pal3pfxAhWSJTQIHc85AbIQ0Y8FMAZ6BAgAEAI&usg=AOvVaw2wFtRhL2vOzmOF5xKOZzbR',\n",
       " '/url?q=https://finance.yahoo.com/news/palantir-strengthens-ties-u-space-075736424.html&sa=U&ved=2ahUKEwjC4Pal3pfxAhWSJTQIHc85AbIQxfQBMAd6BAgGEAE&usg=AOvVaw1XH0Wz_kCEB3g9KEQKkt3I',\n",
       " '/url?q=https://finance.yahoo.com/news/palantir-strengthens-ties-u-space-075736424.html&sa=U&ved=2ahUKEwjC4Pal3pfxAhWSJTQIHc85AbIQ0Y8FMAd6BAgGEAI&usg=AOvVaw3--b0d8s1nI6EsGmgf-uC8',\n",
       " '/url?q=https://finance.yahoo.com/news/palantir-awarded-111m-contract-mission-105900419.html&sa=U&ved=2ahUKEwjC4Pal3pfxAhWSJTQIHc85AbIQxfQBMAh6BAgCEAE&usg=AOvVaw0EcDIDE9S8XBLHZXNw5pA3',\n",
       " '/url?q=https://finance.yahoo.com/news/palantir-awarded-111m-contract-mission-105900419.html&sa=U&ved=2ahUKEwjC4Pal3pfxAhWSJTQIHc85AbIQ0Y8FMAh6BAgCEAI&usg=AOvVaw1cCNlkpgHCAHhAgTKzALAl',\n",
       " '/url?q=https://finance.yahoo.com/news/palantir-space-force-expand-partnership-105900988.html&sa=U&ved=2ahUKEwjC4Pal3pfxAhWSJTQIHc85AbIQxfQBMAl6BAgEEAE&usg=AOvVaw29NbgWQfvg-px0W5udUqU-',\n",
       " '/url?q=https://finance.yahoo.com/news/palantir-space-force-expand-partnership-105900988.html&sa=U&ved=2ahUKEwjC4Pal3pfxAhWSJTQIHc85AbIQ0Y8FMAl6BAgEEAI&usg=AOvVaw2VHX7_5nvoIfZnX2aQ8dpL',\n",
       " '/search?q=yahoo+finance+PLTR&rlz=1C5CHFA_enUS831US831&biw=1200&bih=688&ie=UTF-8&tbm=nws&ei=nZ3HYIKeA5LL0PEPz_OEkAs&start=10&sa=N',\n",
       " '/url?q=https://support.google.com/websearch%3Fp%3Dws_settings_location%26hl%3Den&sa=U&ved=0ahUKEwjC4Pal3pfxAhWSJTQIHc85AbIQty4IUw&usg=AOvVaw0Qy-F91G-UlOJJxiSQsqW7',\n",
       " '/url?q=https://accounts.google.com/ServiceLogin%3Fcontinue%3Dhttps://www.google.com/search%253Fq%253Dyahoo%252Bfinance%252BPLTR%2526rlz%253D1C5CHFA_enUS831US831%2526source%253Dlnms%2526tbm%253Dnws%2526sa%253DX%2526ved%253D2ahUKEwj4zJvp25fxAhVCLn0KHXZEBcEQ_AUoAXoECAEQAw%2526biw%253D1200%2526bih%253D688%2526dpr%253D2%26hl%3Den&sa=U&ved=0ahUKEwjC4Pal3pfxAhWSJTQIHc85AbIQxs8CCFQ&usg=AOvVaw2XssgTTa55bVwpyCxfkTSO',\n",
       " 'https://www.google.com/preferences?hl=en&fg=1&sa=X&ved=0ahUKEwjC4Pal3pfxAhWSJTQIHc85AbIQ5fUCCFU',\n",
       " 'https://policies.google.com/privacy?hl=en&fg=1',\n",
       " 'https://policies.google.com/terms?hl=en&fg=1']"
      ]
     },
     "execution_count": 39,
     "metadata": {},
     "output_type": "execute_result"
    }
   ],
   "source": [
    "search_stock_news_urls('PLTR')"
   ]
  },
  {
   "cell_type": "code",
   "execution_count": 41,
   "id": "e0e1f843",
   "metadata": {},
   "outputs": [],
   "source": [
    "raw_urls = {}\n",
    "for ticker in monitored_tickers:\n",
    "    raw_urls[ticker] = search_stock_news_urls(ticker)"
   ]
  },
  {
   "cell_type": "code",
   "execution_count": 42,
   "id": "21bc2e74",
   "metadata": {},
   "outputs": [
    {
     "data": {
      "text/plain": [
       "{'PLTR': ['/?sa=X&ved=0ahUKEwiOs5uD35fxAhWvJzQIHcn0Co4QOwgC',\n",
       "  '/search?q=yahoo+finance+PLTR&tbm=nws&sa=X&rlz=1C5CHFA_enUS831US831&biw=1200&bih=688&ie=UTF-8&gbv=1&sei=YJ7HYI6DKq_P0PEPyemr8Ag',\n",
       "  '/search?q=yahoo+finance+PLTR&rlz=1C5CHFA_enUS831US831&biw=1200&bih=688&ie=UTF-8&source=lnms&sa=X&ved=0ahUKEwiOs5uD35fxAhWvJzQIHcn0Co4Q_AUIBSgA',\n",
       "  '/search?q=yahoo+finance+PLTR&rlz=1C5CHFA_enUS831US831&biw=1200&bih=688&ie=UTF-8&tbm=shop&source=lnms&sa=X&ved=0ahUKEwiOs5uD35fxAhWvJzQIHcn0Co4Q_AUIBygC',\n",
       "  '/search?q=yahoo+finance+PLTR&rlz=1C5CHFA_enUS831US831&biw=1200&bih=688&ie=UTF-8&tbm=vid&source=lnms&sa=X&ved=0ahUKEwiOs5uD35fxAhWvJzQIHcn0Co4Q_AUICCgD',\n",
       "  '/search?q=yahoo+finance+PLTR&rlz=1C5CHFA_enUS831US831&biw=1200&bih=688&ie=UTF-8&tbm=isch&source=lnms&sa=X&ved=0ahUKEwiOs5uD35fxAhWvJzQIHcn0Co4Q_AUICSgE',\n",
       "  'https://maps.google.com/maps?q=yahoo+finance+PLTR&rlz=1C5CHFA_enUS831US831&biw=1200&bih=688&dpr=2&um=1&ie=UTF-8&sa=X&ved=0ahUKEwiOs5uD35fxAhWvJzQIHcn0Co4Q_AUICigF',\n",
       "  '/search?q=yahoo+finance+PLTR&rlz=1C5CHFA_enUS831US831&biw=1200&bih=688&ie=UTF-8&tbm=bks&source=lnms&sa=X&ved=0ahUKEwiOs5uD35fxAhWvJzQIHcn0Co4Q_AUICygG',\n",
       "  '/advanced_search',\n",
       "  '/search?q=yahoo+finance+PLTR&rlz=1C5CHFA_enUS831US831&biw=1200&bih=688&ie=UTF-8&tbm=nws&source=lnt&tbs=qdr:h&sa=X&ved=0ahUKEwiOs5uD35fxAhWvJzQIHcn0Co4QpwUIDQ',\n",
       "  '/search?q=yahoo+finance+PLTR&rlz=1C5CHFA_enUS831US831&biw=1200&bih=688&ie=UTF-8&tbm=nws&source=lnt&tbs=qdr:d&sa=X&ved=0ahUKEwiOs5uD35fxAhWvJzQIHcn0Co4QpwUIDg',\n",
       "  '/search?q=yahoo+finance+PLTR&rlz=1C5CHFA_enUS831US831&biw=1200&bih=688&ie=UTF-8&tbm=nws&source=lnt&tbs=qdr:w&sa=X&ved=0ahUKEwiOs5uD35fxAhWvJzQIHcn0Co4QpwUIDw',\n",
       "  '/search?q=yahoo+finance+PLTR&rlz=1C5CHFA_enUS831US831&biw=1200&bih=688&ie=UTF-8&tbm=nws&source=lnt&tbs=qdr:m&sa=X&ved=0ahUKEwiOs5uD35fxAhWvJzQIHcn0Co4QpwUIEA',\n",
       "  '/search?q=yahoo+finance+PLTR&rlz=1C5CHFA_enUS831US831&biw=1200&bih=688&ie=UTF-8&tbm=nws&source=lnt&tbs=qdr:y&sa=X&ved=0ahUKEwiOs5uD35fxAhWvJzQIHcn0Co4QpwUIEQ',\n",
       "  '/search?q=yahoo+finance+PLTR&rlz=1C5CHFA_enUS831US831&biw=1200&bih=688&ie=UTF-8&tbm=nws&source=lnt&tbs=ar:1&sa=X&ved=0ahUKEwiOs5uD35fxAhWvJzQIHcn0Co4QpwUIEg',\n",
       "  '/search?q=yahoo+finance+PLTR&rlz=1C5CHFA_enUS831US831&biw=1200&bih=688&ie=UTF-8&tbm=nws&source=lnt&tbs=sbd:1&sa=X&ved=0ahUKEwiOs5uD35fxAhWvJzQIHcn0Co4QpwUIFA',\n",
       "  '/url?q=https://finance.yahoo.com/news/better-meme-stock-wendys-palantir-132440594.html&sa=U&ved=2ahUKEwiOs5uD35fxAhWvJzQIHcn0Co4QxfQBMAB6BAgGEAE&usg=AOvVaw3RNOUq7_LIkd8ikBJwLDt2',\n",
       "  '/url?q=https://finance.yahoo.com/news/better-meme-stock-wendys-palantir-132440594.html&sa=U&ved=2ahUKEwiOs5uD35fxAhWvJzQIHcn0Co4Q0Y8FMAB6BAgGEAI&usg=AOvVaw3yWqzAQnU3s4kAcXBuDws6',\n",
       "  '/url?q=https://finance.yahoo.com/news/palantir-could-dominate-data-field-105336199.html&sa=U&ved=2ahUKEwiOs5uD35fxAhWvJzQIHcn0Co4QxfQBMAF6BAgHEAE&usg=AOvVaw2t_dDUq8RqisYMecgVuWbK',\n",
       "  '/url?q=https://finance.yahoo.com/news/palantir-could-dominate-data-field-105336199.html&sa=U&ved=2ahUKEwiOs5uD35fxAhWvJzQIHcn0Co4Q0Y8FMAF6BAgHEAI&usg=AOvVaw3x-q2KMqHn0x-tYtXnj1K2',\n",
       "  '/url?q=https://finance.yahoo.com/news/palantir-technologies-wins-united-states-170328779.html&sa=U&ved=2ahUKEwiOs5uD35fxAhWvJzQIHcn0Co4QxfQBMAJ6BAgIEAE&usg=AOvVaw3JXT_-QJR4KLxZ4tkJLJMV',\n",
       "  '/url?q=https://finance.yahoo.com/news/palantir-technologies-wins-united-states-170328779.html&sa=U&ved=2ahUKEwiOs5uD35fxAhWvJzQIHcn0Co4Q0Y8FMAJ6BAgIEAI&usg=AOvVaw1JJgjVfzAkx2Q4cp4tz0yL',\n",
       "  '/url?q=https://finance.yahoo.com/news/palantir-vs-splunk-data-analytics-164334452.html&sa=U&ved=2ahUKEwiOs5uD35fxAhWvJzQIHcn0Co4QxfQBMAN6BAgJEAE&usg=AOvVaw0OAqgfFYFizMI68S_NAzgN',\n",
       "  '/url?q=https://finance.yahoo.com/news/palantir-vs-splunk-data-analytics-164334452.html&sa=U&ved=2ahUKEwiOs5uD35fxAhWvJzQIHcn0Co4Q0Y8FMAN6BAgJEAI&usg=AOvVaw2ayAwZM5jU8zDf96P1VVEq',\n",
       "  '/url?q=https://finance.yahoo.com/news/palantir-technologies-strikes-32-5m-120110104.html&sa=U&ved=2ahUKEwiOs5uD35fxAhWvJzQIHcn0Co4QxfQBMAR6BAgCEAE&usg=AOvVaw1wme7Du2tsTrltsATHsYR0',\n",
       "  '/url?q=https://finance.yahoo.com/news/palantir-technologies-strikes-32-5m-120110104.html&sa=U&ved=2ahUKEwiOs5uD35fxAhWvJzQIHcn0Co4Q0Y8FMAR6BAgCEAI&usg=AOvVaw0Rx6Yv1OY2d1_hRj2lKOKx',\n",
       "  '/url?q=https://finance.yahoo.com/news/10-best-saas-stocks-buy-170819461.html&sa=U&ved=2ahUKEwiOs5uD35fxAhWvJzQIHcn0Co4QxfQBMAV6BAgAEAE&usg=AOvVaw2uSsxKBqpV4uqDgH86_tPQ',\n",
       "  '/url?q=https://finance.yahoo.com/news/10-best-saas-stocks-buy-170819461.html&sa=U&ved=2ahUKEwiOs5uD35fxAhWvJzQIHcn0Co4Q0Y8FMAV6BAgAEAI&usg=AOvVaw1a0ykBFWjTe9rf5QDnHvVF',\n",
       "  '/url?q=https://finance.yahoo.com/news/george-soros-firm-finally-exits-230142049.html&sa=U&ved=2ahUKEwiOs5uD35fxAhWvJzQIHcn0Co4QxfQBMAZ6BAgEEAE&usg=AOvVaw29-73559dfJe05d1cDEdDh',\n",
       "  '/url?q=https://finance.yahoo.com/news/george-soros-firm-finally-exits-230142049.html&sa=U&ved=2ahUKEwiOs5uD35fxAhWvJzQIHcn0Co4Q0Y8FMAZ6BAgEEAI&usg=AOvVaw2V4hzKdI3-LtBWNPrhuCU2',\n",
       "  '/url?q=https://finance.yahoo.com/news/palantir-strengthens-ties-u-space-075736424.html&sa=U&ved=2ahUKEwiOs5uD35fxAhWvJzQIHcn0Co4QxfQBMAd6BAgBEAE&usg=AOvVaw1YKokzn1id0EcyMlBIjWe9',\n",
       "  '/url?q=https://finance.yahoo.com/news/palantir-strengthens-ties-u-space-075736424.html&sa=U&ved=2ahUKEwiOs5uD35fxAhWvJzQIHcn0Co4Q0Y8FMAd6BAgBEAI&usg=AOvVaw2QJRjMdlvHncfHRJ_iN9GF',\n",
       "  '/url?q=https://finance.yahoo.com/news/palantir-awarded-111m-contract-mission-105900419.html&sa=U&ved=2ahUKEwiOs5uD35fxAhWvJzQIHcn0Co4QxfQBMAh6BAgDEAE&usg=AOvVaw3WNvHubvFx_hcDCY3sfeqH',\n",
       "  '/url?q=https://finance.yahoo.com/news/palantir-awarded-111m-contract-mission-105900419.html&sa=U&ved=2ahUKEwiOs5uD35fxAhWvJzQIHcn0Co4Q0Y8FMAh6BAgDEAI&usg=AOvVaw3u-jN24HR4KzwoyeU09USB',\n",
       "  '/url?q=https://finance.yahoo.com/news/palantir-space-force-expand-partnership-105900988.html&sa=U&ved=2ahUKEwiOs5uD35fxAhWvJzQIHcn0Co4QxfQBMAl6BAgFEAE&usg=AOvVaw2Z_7FGG2lqCyqfKwiKZoiG',\n",
       "  '/url?q=https://finance.yahoo.com/news/palantir-space-force-expand-partnership-105900988.html&sa=U&ved=2ahUKEwiOs5uD35fxAhWvJzQIHcn0Co4Q0Y8FMAl6BAgFEAI&usg=AOvVaw3XciNrKkVBfqihn3SPFkKi',\n",
       "  '/search?q=yahoo+finance+PLTR&rlz=1C5CHFA_enUS831US831&biw=1200&bih=688&ie=UTF-8&tbm=nws&ei=YJ7HYI6DKq_P0PEPyemr8Ag&start=10&sa=N',\n",
       "  '/url?q=https://support.google.com/websearch%3Fp%3Dws_settings_location%26hl%3Den&sa=U&ved=0ahUKEwiOs5uD35fxAhWvJzQIHcn0Co4Qty4IUw&usg=AOvVaw1rL9UaJAwbT9JLJhAyZaZl',\n",
       "  '/url?q=https://accounts.google.com/ServiceLogin%3Fcontinue%3Dhttps://www.google.com/search%253Fq%253Dyahoo%252Bfinance%252BPLTR%2526rlz%253D1C5CHFA_enUS831US831%2526source%253Dlnms%2526tbm%253Dnws%2526sa%253DX%2526ved%253D2ahUKEwj4zJvp25fxAhVCLn0KHXZEBcEQ_AUoAXoECAEQAw%2526biw%253D1200%2526bih%253D688%2526dpr%253D2%26hl%3Den&sa=U&ved=0ahUKEwiOs5uD35fxAhWvJzQIHcn0Co4Qxs8CCFQ&usg=AOvVaw3P2OREMQ7rQesX34jzbXGd',\n",
       "  'https://www.google.com/preferences?hl=en&fg=1&sa=X&ved=0ahUKEwiOs5uD35fxAhWvJzQIHcn0Co4Q5fUCCFU',\n",
       "  'https://policies.google.com/privacy?hl=en&fg=1',\n",
       "  'https://policies.google.com/terms?hl=en&fg=1'],\n",
       " 'BB': ['/?sa=X&ved=0ahUKEwi7pLWD35fxAhW4HzQIHf93Au4QOwgC',\n",
       "  '/search?q=yahoo+finance+BB&tbm=nws&sa=X&rlz=1C5CHFA_enUS831US831&biw=1200&bih=688&ie=UTF-8&gbv=1&sei=YZ7HYPvvBri_0PEP_--J8A4',\n",
       "  '/search?q=yahoo+finance+BB&rlz=1C5CHFA_enUS831US831&biw=1200&bih=688&ie=UTF-8&source=lnms&sa=X&ved=0ahUKEwi7pLWD35fxAhW4HzQIHf93Au4Q_AUIBSgA',\n",
       "  '/search?q=yahoo+finance+BB&rlz=1C5CHFA_enUS831US831&biw=1200&bih=688&ie=UTF-8&tbm=shop&source=lnms&sa=X&ved=0ahUKEwi7pLWD35fxAhW4HzQIHf93Au4Q_AUIBygC',\n",
       "  '/search?q=yahoo+finance+BB&rlz=1C5CHFA_enUS831US831&biw=1200&bih=688&ie=UTF-8&tbm=vid&source=lnms&sa=X&ved=0ahUKEwi7pLWD35fxAhW4HzQIHf93Au4Q_AUICCgD',\n",
       "  '/search?q=yahoo+finance+BB&rlz=1C5CHFA_enUS831US831&biw=1200&bih=688&ie=UTF-8&tbm=isch&source=lnms&sa=X&ved=0ahUKEwi7pLWD35fxAhW4HzQIHf93Au4Q_AUICSgE',\n",
       "  'https://maps.google.com/maps?q=yahoo+finance+BB&rlz=1C5CHFA_enUS831US831&biw=1200&bih=688&dpr=2&um=1&ie=UTF-8&sa=X&ved=0ahUKEwi7pLWD35fxAhW4HzQIHf93Au4Q_AUICigF',\n",
       "  '/search?q=yahoo+finance+BB&rlz=1C5CHFA_enUS831US831&biw=1200&bih=688&ie=UTF-8&tbm=bks&source=lnms&sa=X&ved=0ahUKEwi7pLWD35fxAhW4HzQIHf93Au4Q_AUICygG',\n",
       "  '/advanced_search',\n",
       "  '/search?q=yahoo+finance+BB&rlz=1C5CHFA_enUS831US831&biw=1200&bih=688&ie=UTF-8&tbm=nws&source=lnt&tbs=qdr:h&sa=X&ved=0ahUKEwi7pLWD35fxAhW4HzQIHf93Au4QpwUIDQ',\n",
       "  '/search?q=yahoo+finance+BB&rlz=1C5CHFA_enUS831US831&biw=1200&bih=688&ie=UTF-8&tbm=nws&source=lnt&tbs=qdr:d&sa=X&ved=0ahUKEwi7pLWD35fxAhW4HzQIHf93Au4QpwUIDg',\n",
       "  '/search?q=yahoo+finance+BB&rlz=1C5CHFA_enUS831US831&biw=1200&bih=688&ie=UTF-8&tbm=nws&source=lnt&tbs=qdr:w&sa=X&ved=0ahUKEwi7pLWD35fxAhW4HzQIHf93Au4QpwUIDw',\n",
       "  '/search?q=yahoo+finance+BB&rlz=1C5CHFA_enUS831US831&biw=1200&bih=688&ie=UTF-8&tbm=nws&source=lnt&tbs=qdr:m&sa=X&ved=0ahUKEwi7pLWD35fxAhW4HzQIHf93Au4QpwUIEA',\n",
       "  '/search?q=yahoo+finance+BB&rlz=1C5CHFA_enUS831US831&biw=1200&bih=688&ie=UTF-8&tbm=nws&source=lnt&tbs=qdr:y&sa=X&ved=0ahUKEwi7pLWD35fxAhW4HzQIHf93Au4QpwUIEQ',\n",
       "  '/search?q=yahoo+finance+BB&rlz=1C5CHFA_enUS831US831&biw=1200&bih=688&ie=UTF-8&tbm=nws&source=lnt&tbs=ar:1&sa=X&ved=0ahUKEwi7pLWD35fxAhW4HzQIHf93Au4QpwUIEg',\n",
       "  '/search?q=yahoo+finance+BB&rlz=1C5CHFA_enUS831US831&biw=1200&bih=688&ie=UTF-8&tbm=nws&source=lnt&tbs=sbd:1&sa=X&ved=0ahUKEwi7pLWD35fxAhW4HzQIHf93Au4QpwUIFA',\n",
       "  '/url?q=https://finance.yahoo.com/video/meme-stock-frenzy-outcome-positive-152424294.html&sa=U&ved=2ahUKEwi7pLWD35fxAhW4HzQIHf93Au4QxfQBMAB6BAgFEAE&usg=AOvVaw182OU9wn5HP5OLF09KS9Mj',\n",
       "  '/url?q=https://finance.yahoo.com/video/meme-stock-frenzy-outcome-positive-152424294.html&sa=U&ved=2ahUKEwi7pLWD35fxAhW4HzQIHf93Au4Q0Y8FMAB6BAgFEAI&usg=AOvVaw0wz6OnZFn4qwFr5K974BWT',\n",
       "  '/url?q=https://finance.yahoo.com/news/blackberry-announce-first-quarter-fiscal-210000303.html&sa=U&ved=2ahUKEwi7pLWD35fxAhW4HzQIHf93Au4QxfQBMAF6BAgHEAE&usg=AOvVaw11TTPN7-5Pfs0YAPM47jSu',\n",
       "  '/url?q=https://finance.yahoo.com/news/blackberry-announce-first-quarter-fiscal-210000303.html&sa=U&ved=2ahUKEwi7pLWD35fxAhW4HzQIHf93Au4Q0Y8FMAF6BAgHEAI&usg=AOvVaw1PF8VvjqYqTgWScLHZTRUg',\n",
       "  '/url?q=https://finance.yahoo.com/news/blackberry-bb-outpaces-stock-market-215009960.html&sa=U&ved=2ahUKEwi7pLWD35fxAhW4HzQIHf93Au4QxfQBMAJ6BAgIEAE&usg=AOvVaw2PVgzmQkijVCnXpxamtuZf',\n",
       "  '/url?q=https://finance.yahoo.com/news/blackberry-bb-outpaces-stock-market-215009960.html&sa=U&ved=2ahUKEwi7pLWD35fxAhW4HzQIHf93Au4Q0Y8FMAJ6BAgIEAI&usg=AOvVaw0OmhuXN2iQ6YMJC2EZkoVj',\n",
       "  '/url?q=https://finance.yahoo.com/news/blackberry-bb-partners-bitech-digital-125812985.html&sa=U&ved=2ahUKEwi7pLWD35fxAhW4HzQIHf93Au4QxfQBMAN6BAgJEAE&usg=AOvVaw3B6FqRcy5h4FGZCpqQgvrF',\n",
       "  '/url?q=https://finance.yahoo.com/news/blackberry-bb-partners-bitech-digital-125812985.html&sa=U&ved=2ahUKEwi7pLWD35fxAhW4HzQIHf93Au4Q0Y8FMAN6BAgJEAI&usg=AOvVaw3yreaHqeMJkzU2GK89ZGc4',\n",
       "  '/url?q=https://finance.yahoo.com/news/blackberry-bitech-team-build-safe-010000530.html&sa=U&ved=2ahUKEwi7pLWD35fxAhW4HzQIHf93Au4QxfQBMAR6BAgEEAE&usg=AOvVaw0QLYYRoemoROH2NxECvkhi',\n",
       "  '/url?q=https://finance.yahoo.com/news/blackberry-bitech-team-build-safe-010000530.html&sa=U&ved=2ahUKEwi7pLWD35fxAhW4HzQIHf93Au4Q0Y8FMAR6BAgEEAI&usg=AOvVaw3TY6o5wYmGxi6CLryl0D85',\n",
       "  '/url?q=https://finance.yahoo.com/news/1-meme-stock-surge-lifts-174413990.html&sa=U&ved=2ahUKEwi7pLWD35fxAhW4HzQIHf93Au4QxfQBMAV6BAgCEAE&usg=AOvVaw3InwIEhsKRWrA9HBbbCjOd',\n",
       "  '/url?q=https://finance.yahoo.com/news/1-meme-stock-surge-lifts-174413990.html&sa=U&ved=2ahUKEwi7pLWD35fxAhW4HzQIHf93Au4Q0Y8FMAV6BAgCEAI&usg=AOvVaw0VKa2sDOQvrSDdAhWI0Srq',\n",
       "  '/url?q=https://uk.finance.yahoo.com/news/blackberry-bb-share-price-explode-144613189.html&sa=U&ved=2ahUKEwi7pLWD35fxAhW4HzQIHf93Au4QxfQBMAZ6BAgBEAE&usg=AOvVaw0XCrZzk_naJKOAVnw3fVbc',\n",
       "  '/url?q=https://uk.finance.yahoo.com/news/blackberry-bb-share-price-explode-144613189.html&sa=U&ved=2ahUKEwi7pLWD35fxAhW4HzQIHf93Au4Q0Y8FMAZ6BAgBEAI&usg=AOvVaw00wfX4nzokF0nGqBuo62PW',\n",
       "  '/url?q=https://ca.finance.yahoo.com/news/blackberry-tsx-bb-stock-book-190025074.html&sa=U&ved=2ahUKEwi7pLWD35fxAhW4HzQIHf93Au4QxfQBMAd6BAgAEAE&usg=AOvVaw1gvoSpszodCtXFnh3UJwEP',\n",
       "  '/url?q=https://ca.finance.yahoo.com/news/blackberry-tsx-bb-stock-book-190025074.html&sa=U&ved=2ahUKEwi7pLWD35fxAhW4HzQIHf93Au4Q0Y8FMAd6BAgAEAI&usg=AOvVaw2rzIwUJjjUrrTyM2x9u6zD',\n",
       "  '/url?q=https://ca.finance.yahoo.com/news/blackberry-stock-tsx-bb-bubble-124502106.html&sa=U&ved=2ahUKEwi7pLWD35fxAhW4HzQIHf93Au4QxfQBMAh6BAgDEAE&usg=AOvVaw3Hco-bdd0UVDugGhDeD8OS',\n",
       "  '/url?q=https://ca.finance.yahoo.com/news/blackberry-stock-tsx-bb-bubble-124502106.html&sa=U&ved=2ahUKEwi7pLWD35fxAhW4HzQIHf93Au4Q0Y8FMAh6BAgDEAI&usg=AOvVaw387MK3PU6iEzMli04puk1S',\n",
       "  '/url?q=https://ca.finance.yahoo.com/news/forget-blackberry-gme-well-health-193051278.html&sa=U&ved=2ahUKEwi7pLWD35fxAhW4HzQIHf93Au4QxfQBMAl6BAgGEAE&usg=AOvVaw1M7HkNhA71WCdkPH1_-cwU',\n",
       "  '/url?q=https://ca.finance.yahoo.com/news/forget-blackberry-gme-well-health-193051278.html&sa=U&ved=2ahUKEwi7pLWD35fxAhW4HzQIHf93Au4Q0Y8FMAl6BAgGEAI&usg=AOvVaw0Pyi_ycUlziOFWJc-qyHX6',\n",
       "  '/search?q=yahoo+finance+BB&rlz=1C5CHFA_enUS831US831&biw=1200&bih=688&ie=UTF-8&tbm=nws&ei=YZ7HYPvvBri_0PEP_--J8A4&start=10&sa=N',\n",
       "  '/url?q=https://support.google.com/websearch%3Fp%3Dws_settings_location%26hl%3Den&sa=U&ved=0ahUKEwi7pLWD35fxAhW4HzQIHf93Au4Qty4IUw&usg=AOvVaw0SO-uXqchIo9jVd3oku5jw',\n",
       "  '/url?q=https://accounts.google.com/ServiceLogin%3Fcontinue%3Dhttps://www.google.com/search%253Fq%253Dyahoo%252Bfinance%252BBB%2526rlz%253D1C5CHFA_enUS831US831%2526source%253Dlnms%2526tbm%253Dnws%2526sa%253DX%2526ved%253D2ahUKEwj4zJvp25fxAhVCLn0KHXZEBcEQ_AUoAXoECAEQAw%2526biw%253D1200%2526bih%253D688%2526dpr%253D2%26hl%3Den&sa=U&ved=0ahUKEwi7pLWD35fxAhW4HzQIHf93Au4Qxs8CCFQ&usg=AOvVaw2OoVdL4lLaxSw7PwsUJWHE',\n",
       "  'https://www.google.com/preferences?hl=en&fg=1&sa=X&ved=0ahUKEwi7pLWD35fxAhW4HzQIHf93Au4Q5fUCCFU',\n",
       "  'https://policies.google.com/privacy?hl=en&fg=1',\n",
       "  'https://policies.google.com/terms?hl=en&fg=1'],\n",
       " 'SNPS': ['/?sa=X&ved=0ahUKEwjWz9CD35fxAhXlCTQIHbfSBfQQOwgC',\n",
       "  '/search?q=yahoo+finance+SNPS&tbm=nws&sa=X&rlz=1C5CHFA_enUS831US831&biw=1200&bih=688&ie=UTF-8&gbv=1&sei=YZ7HYJabIuWT0PEPt6WXoA8',\n",
       "  '/search?q=yahoo+finance+SNPS&rlz=1C5CHFA_enUS831US831&biw=1200&bih=688&ie=UTF-8&source=lnms&sa=X&ved=0ahUKEwjWz9CD35fxAhXlCTQIHbfSBfQQ_AUIBSgA',\n",
       "  '/search?q=yahoo+finance+SNPS&rlz=1C5CHFA_enUS831US831&biw=1200&bih=688&ie=UTF-8&tbm=shop&source=lnms&sa=X&ved=0ahUKEwjWz9CD35fxAhXlCTQIHbfSBfQQ_AUIBygC',\n",
       "  '/search?q=yahoo+finance+SNPS&rlz=1C5CHFA_enUS831US831&biw=1200&bih=688&ie=UTF-8&tbm=vid&source=lnms&sa=X&ved=0ahUKEwjWz9CD35fxAhXlCTQIHbfSBfQQ_AUICCgD',\n",
       "  '/search?q=yahoo+finance+SNPS&rlz=1C5CHFA_enUS831US831&biw=1200&bih=688&ie=UTF-8&tbm=isch&source=lnms&sa=X&ved=0ahUKEwjWz9CD35fxAhXlCTQIHbfSBfQQ_AUICSgE',\n",
       "  'https://maps.google.com/maps?q=yahoo+finance+SNPS&rlz=1C5CHFA_enUS831US831&biw=1200&bih=688&dpr=2&um=1&ie=UTF-8&sa=X&ved=0ahUKEwjWz9CD35fxAhXlCTQIHbfSBfQQ_AUICigF',\n",
       "  '/search?q=yahoo+finance+SNPS&rlz=1C5CHFA_enUS831US831&biw=1200&bih=688&ie=UTF-8&tbm=bks&source=lnms&sa=X&ved=0ahUKEwjWz9CD35fxAhXlCTQIHbfSBfQQ_AUICygG',\n",
       "  '/advanced_search',\n",
       "  '/search?q=yahoo+finance+SNPS&rlz=1C5CHFA_enUS831US831&biw=1200&bih=688&ie=UTF-8&tbm=nws&source=lnt&tbs=qdr:h&sa=X&ved=0ahUKEwjWz9CD35fxAhXlCTQIHbfSBfQQpwUIDQ',\n",
       "  '/search?q=yahoo+finance+SNPS&rlz=1C5CHFA_enUS831US831&biw=1200&bih=688&ie=UTF-8&tbm=nws&source=lnt&tbs=qdr:d&sa=X&ved=0ahUKEwjWz9CD35fxAhXlCTQIHbfSBfQQpwUIDg',\n",
       "  '/search?q=yahoo+finance+SNPS&rlz=1C5CHFA_enUS831US831&biw=1200&bih=688&ie=UTF-8&tbm=nws&source=lnt&tbs=qdr:w&sa=X&ved=0ahUKEwjWz9CD35fxAhXlCTQIHbfSBfQQpwUIDw',\n",
       "  '/search?q=yahoo+finance+SNPS&rlz=1C5CHFA_enUS831US831&biw=1200&bih=688&ie=UTF-8&tbm=nws&source=lnt&tbs=qdr:m&sa=X&ved=0ahUKEwjWz9CD35fxAhXlCTQIHbfSBfQQpwUIEA',\n",
       "  '/search?q=yahoo+finance+SNPS&rlz=1C5CHFA_enUS831US831&biw=1200&bih=688&ie=UTF-8&tbm=nws&source=lnt&tbs=qdr:y&sa=X&ved=0ahUKEwjWz9CD35fxAhXlCTQIHbfSBfQQpwUIEQ',\n",
       "  '/search?q=yahoo+finance+SNPS&rlz=1C5CHFA_enUS831US831&biw=1200&bih=688&ie=UTF-8&tbm=nws&source=lnt&tbs=ar:1&sa=X&ved=0ahUKEwjWz9CD35fxAhXlCTQIHbfSBfQQpwUIEg',\n",
       "  '/search?q=yahoo+finance+SNPS&rlz=1C5CHFA_enUS831US831&biw=1200&bih=688&ie=UTF-8&tbm=nws&source=lnt&tbs=sbd:1&sa=X&ved=0ahUKEwjWz9CD35fxAhXlCTQIHbfSBfQQpwUIFA',\n",
       "  '/url?q=https://finance.yahoo.com/news/earnings-estimates-rising-synopsys-snps-162004458.html&sa=U&ved=2ahUKEwjWz9CD35fxAhXlCTQIHbfSBfQQxfQBMAB6BAgCEAE&usg=AOvVaw0MfHFV9D6RnwKGV8NO7-68',\n",
       "  '/url?q=https://finance.yahoo.com/news/earnings-estimates-rising-synopsys-snps-162004458.html&sa=U&ved=2ahUKEwjWz9CD35fxAhXlCTQIHbfSBfQQ0Y8FMAB6BAgCEAI&usg=AOvVaw11WJ34OWGWGxPfBHaIkg9t',\n",
       "  '/url?q=https://finance.yahoo.com/news/twist-bioscience-collaborates-regeneron-production-120100217.html&sa=U&ved=2ahUKEwjWz9CD35fxAhXlCTQIHbfSBfQQxfQBMAF6BAgIEAE&usg=AOvVaw1etJkTSQelYzzCGcT5GkV-',\n",
       "  '/url?q=https://finance.yahoo.com/news/twist-bioscience-collaborates-regeneron-production-120100217.html&sa=U&ved=2ahUKEwjWz9CD35fxAhXlCTQIHbfSBfQQ0Y8FMAF6BAgIEAI&usg=AOvVaw2ag-aiKfMJ5m_H1iYQvB6f',\n",
       "  '/url?q=https://finance.yahoo.com/news/synopsys-snps-q2-earnings-revenues-153903811.html&sa=U&ved=2ahUKEwjWz9CD35fxAhXlCTQIHbfSBfQQxfQBMAJ6BAgJEAE&usg=AOvVaw02zrUXchbCi3RnGCthLx3O',\n",
       "  '/url?q=https://finance.yahoo.com/news/synopsys-snps-q2-earnings-revenues-153903811.html&sa=U&ved=2ahUKEwjWz9CD35fxAhXlCTQIHbfSBfQQ0Y8FMAJ6BAgJEAI&usg=AOvVaw0LWm28Q16qMwzXdDXAn6CQ',\n",
       "  '/url?q=https://finance.yahoo.com/news/why-sinopec-snp-increased-3-112311267.html&sa=U&ved=2ahUKEwjWz9CD35fxAhXlCTQIHbfSBfQQxfQBMAN6BAgHEAE&usg=AOvVaw1BslU3afLY7GH4h4ZgS0Ux',\n",
       "  '/url?q=https://finance.yahoo.com/news/why-sinopec-snp-increased-3-112311267.html&sa=U&ved=2ahUKEwjWz9CD35fxAhXlCTQIHbfSBfQQ0Y8FMAN6BAgHEAI&usg=AOvVaw0iwrNsXxFvRYAaEF8Y5tQa',\n",
       "  '/url?q=https://finance.yahoo.com/news/synopsys-posts-financial-results-second-200500618.html&sa=U&ved=2ahUKEwjWz9CD35fxAhXlCTQIHbfSBfQQxfQBMAR6BAgFEAE&usg=AOvVaw2gVBltGYDqR2mqyzcJ0PUO',\n",
       "  '/url?q=https://finance.yahoo.com/news/synopsys-posts-financial-results-second-200500618.html&sa=U&ved=2ahUKEwjWz9CD35fxAhXlCTQIHbfSBfQQ0Y8FMAR6BAgFEAI&usg=AOvVaw0s4hYeoJg-323k5fRIi0z1',\n",
       "  '/url?q=https://finance.yahoo.com/news/synopsys-inc-host-earnings-call-184500463.html&sa=U&ved=2ahUKEwjWz9CD35fxAhXlCTQIHbfSBfQQxfQBMAV6BAgGEAE&usg=AOvVaw2aJCkTm1jLVHRjD64V8AN9',\n",
       "  '/url?q=https://finance.yahoo.com/news/synopsys-inc-host-earnings-call-184500463.html&sa=U&ved=2ahUKEwjWz9CD35fxAhXlCTQIHbfSBfQQ0Y8FMAV6BAgGEAI&usg=AOvVaw2H2JCSDdoRlFbW8X3rtFkb',\n",
       "  '/url?q=https://finance.yahoo.com/news/synopsys-speak-berenberg-thematic-software-200500634.html&sa=U&ved=2ahUKEwjWz9CD35fxAhXlCTQIHbfSBfQQxfQBMAZ6BAgDEAE&usg=AOvVaw2xJc5ClHXoPYLpY-RTb7NN',\n",
       "  '/url?q=https://finance.yahoo.com/news/synopsys-speak-berenberg-thematic-software-200500634.html&sa=U&ved=2ahUKEwjWz9CD35fxAhXlCTQIHbfSBfQQ0Y8FMAZ6BAgDEAI&usg=AOvVaw0EeHwr90Cl1TjgBFMcCtr-',\n",
       "  '/url?q=https://finance.yahoo.com/news/synomics-study-identifies-genomic-pathway-133200950.html&sa=U&ved=2ahUKEwjWz9CD35fxAhXlCTQIHbfSBfQQxfQBMAd6BAgBEAE&usg=AOvVaw3RD1PU3y_ZITgz3xhijunb',\n",
       "  '/url?q=https://finance.yahoo.com/news/synomics-study-identifies-genomic-pathway-133200950.html&sa=U&ved=2ahUKEwjWz9CD35fxAhXlCTQIHbfSBfQQ0Y8FMAd6BAgBEAI&usg=AOvVaw0mEaR8Mpb6eDHGWGRGGdb2',\n",
       "  '/url?q=https://uk.finance.yahoo.com/news/snp-confirms-talks-acquisition-software-163703012.html&sa=U&ved=2ahUKEwjWz9CD35fxAhXlCTQIHbfSBfQQxfQBMAh6BAgEEAE&usg=AOvVaw2nu75415aBBT6HNcfIxest',\n",
       "  '/url?q=https://uk.finance.yahoo.com/news/snp-confirms-talks-acquisition-software-163703012.html&sa=U&ved=2ahUKEwjWz9CD35fxAhXlCTQIHbfSBfQQ0Y8FMAh6BAgEEAI&usg=AOvVaw32JKWdg6PiLV7zoj-qqVxg',\n",
       "  '/url?q=https://finance.yahoo.com/news/invested-1000-synopsys-10-years-123012331.html&sa=U&ved=2ahUKEwjWz9CD35fxAhXlCTQIHbfSBfQQxfQBMAl6BAgAEAE&usg=AOvVaw2IkYo1wA5QEduHtKEengtg',\n",
       "  '/url?q=https://finance.yahoo.com/news/invested-1000-synopsys-10-years-123012331.html&sa=U&ved=2ahUKEwjWz9CD35fxAhXlCTQIHbfSBfQQ0Y8FMAl6BAgAEAI&usg=AOvVaw3qecdcc6OqyHk_iwSjmG4U',\n",
       "  '/search?q=yahoo+finance+SNPS&rlz=1C5CHFA_enUS831US831&biw=1200&bih=688&ie=UTF-8&tbm=nws&ei=YZ7HYJabIuWT0PEPt6WXoA8&start=10&sa=N',\n",
       "  '/url?q=https://support.google.com/websearch%3Fp%3Dws_settings_location%26hl%3Den&sa=U&ved=0ahUKEwjWz9CD35fxAhXlCTQIHbfSBfQQty4IUw&usg=AOvVaw3rlf173TJm01DT2D7Gz8sY',\n",
       "  '/url?q=https://accounts.google.com/ServiceLogin%3Fcontinue%3Dhttps://www.google.com/search%253Fq%253Dyahoo%252Bfinance%252BSNPS%2526rlz%253D1C5CHFA_enUS831US831%2526source%253Dlnms%2526tbm%253Dnws%2526sa%253DX%2526ved%253D2ahUKEwj4zJvp25fxAhVCLn0KHXZEBcEQ_AUoAXoECAEQAw%2526biw%253D1200%2526bih%253D688%2526dpr%253D2%26hl%3Den&sa=U&ved=0ahUKEwjWz9CD35fxAhXlCTQIHbfSBfQQxs8CCFQ&usg=AOvVaw3eG6fXCfjfBXLrWle8ijK7',\n",
       "  'https://www.google.com/preferences?hl=en&fg=1&sa=X&ved=0ahUKEwjWz9CD35fxAhXlCTQIHbfSBfQQ5fUCCFU',\n",
       "  'https://policies.google.com/privacy?hl=en&fg=1',\n",
       "  'https://policies.google.com/terms?hl=en&fg=1']}"
      ]
     },
     "execution_count": 42,
     "metadata": {},
     "output_type": "execute_result"
    }
   ],
   "source": [
    "raw_urls"
   ]
  },
  {
   "cell_type": "markdown",
   "id": "3f3c63aa",
   "metadata": {},
   "source": [
    "## clean the links"
   ]
  },
  {
   "cell_type": "code",
   "execution_count": 46,
   "id": "b9bd294c",
   "metadata": {},
   "outputs": [],
   "source": [
    "import re"
   ]
  },
  {
   "cell_type": "code",
   "execution_count": 48,
   "id": "f1af9f7f",
   "metadata": {},
   "outputs": [],
   "source": [
    "exclude_list = ['maps', 'policies', 'preferences', 'accounts', 'support']"
   ]
  },
  {
   "cell_type": "code",
   "execution_count": 51,
   "id": "4a20c00d",
   "metadata": {},
   "outputs": [],
   "source": [
    "def strip_bad_urls(urls, exclude_list):\n",
    "    val = []\n",
    "    for url in urls:\n",
    "        if 'https://' in url and not any(exclude_word in url for exclude_word in exclude_list):\n",
    "            res = re.findall(r'(https?://\\S+)', url)[0].split('&')[0]\n",
    "            val.append(res)\n",
    "    return list(set(val))"
   ]
  },
  {
   "cell_type": "code",
   "execution_count": 52,
   "id": "0df622b4",
   "metadata": {},
   "outputs": [
    {
     "data": {
      "text/plain": [
       "['https://finance.yahoo.com/news/palantir-space-force-expand-partnership-105900988.html',\n",
       " 'https://finance.yahoo.com/news/george-soros-firm-finally-exits-230142049.html',\n",
       " 'https://finance.yahoo.com/news/palantir-technologies-strikes-32-5m-120110104.html',\n",
       " 'https://finance.yahoo.com/news/palantir-strengthens-ties-u-space-075736424.html',\n",
       " 'https://finance.yahoo.com/news/10-best-saas-stocks-buy-170819461.html',\n",
       " 'https://finance.yahoo.com/news/palantir-technologies-wins-united-states-170328779.html',\n",
       " 'https://finance.yahoo.com/news/palantir-awarded-111m-contract-mission-105900419.html',\n",
       " 'https://finance.yahoo.com/news/palantir-vs-splunk-data-analytics-164334452.html',\n",
       " 'https://finance.yahoo.com/news/palantir-could-dominate-data-field-105336199.html',\n",
       " 'https://finance.yahoo.com/news/better-meme-stock-wendys-palantir-132440594.html']"
      ]
     },
     "execution_count": 52,
     "metadata": {},
     "output_type": "execute_result"
    }
   ],
   "source": [
    "strip_bad_urls(raw_urls['PLTR'], exclude_list)"
   ]
  },
  {
   "cell_type": "code",
   "execution_count": 53,
   "id": "0302e67f",
   "metadata": {},
   "outputs": [],
   "source": [
    "cleaned_urls = {ticker:strip_bad_urls(raw_urls[ticker], exclude_list) for ticker in monitored_tickers}"
   ]
  },
  {
   "cell_type": "code",
   "execution_count": 54,
   "id": "088cbc14",
   "metadata": {},
   "outputs": [
    {
     "data": {
      "text/plain": [
       "{'PLTR': ['https://finance.yahoo.com/news/palantir-space-force-expand-partnership-105900988.html',\n",
       "  'https://finance.yahoo.com/news/george-soros-firm-finally-exits-230142049.html',\n",
       "  'https://finance.yahoo.com/news/palantir-technologies-strikes-32-5m-120110104.html',\n",
       "  'https://finance.yahoo.com/news/palantir-strengthens-ties-u-space-075736424.html',\n",
       "  'https://finance.yahoo.com/news/10-best-saas-stocks-buy-170819461.html',\n",
       "  'https://finance.yahoo.com/news/palantir-technologies-wins-united-states-170328779.html',\n",
       "  'https://finance.yahoo.com/news/palantir-awarded-111m-contract-mission-105900419.html',\n",
       "  'https://finance.yahoo.com/news/palantir-vs-splunk-data-analytics-164334452.html',\n",
       "  'https://finance.yahoo.com/news/palantir-could-dominate-data-field-105336199.html',\n",
       "  'https://finance.yahoo.com/news/better-meme-stock-wendys-palantir-132440594.html'],\n",
       " 'BB': ['https://uk.finance.yahoo.com/news/blackberry-bb-share-price-explode-144613189.html',\n",
       "  'https://finance.yahoo.com/news/1-meme-stock-surge-lifts-174413990.html',\n",
       "  'https://finance.yahoo.com/news/blackberry-bitech-team-build-safe-010000530.html',\n",
       "  'https://ca.finance.yahoo.com/news/forget-blackberry-gme-well-health-193051278.html',\n",
       "  'https://ca.finance.yahoo.com/news/blackberry-tsx-bb-stock-book-190025074.html',\n",
       "  'https://finance.yahoo.com/video/meme-stock-frenzy-outcome-positive-152424294.html',\n",
       "  'https://finance.yahoo.com/news/blackberry-bb-partners-bitech-digital-125812985.html',\n",
       "  'https://ca.finance.yahoo.com/news/blackberry-stock-tsx-bb-bubble-124502106.html',\n",
       "  'https://finance.yahoo.com/news/blackberry-bb-outpaces-stock-market-215009960.html',\n",
       "  'https://finance.yahoo.com/news/blackberry-announce-first-quarter-fiscal-210000303.html'],\n",
       " 'SNPS': ['https://finance.yahoo.com/news/synopsys-inc-host-earnings-call-184500463.html',\n",
       "  'https://finance.yahoo.com/news/synomics-study-identifies-genomic-pathway-133200950.html',\n",
       "  'https://finance.yahoo.com/news/synopsys-speak-berenberg-thematic-software-200500634.html',\n",
       "  'https://finance.yahoo.com/news/synopsys-posts-financial-results-second-200500618.html',\n",
       "  'https://finance.yahoo.com/news/synopsys-snps-q2-earnings-revenues-153903811.html',\n",
       "  'https://finance.yahoo.com/news/invested-1000-synopsys-10-years-123012331.html',\n",
       "  'https://finance.yahoo.com/news/why-sinopec-snp-increased-3-112311267.html',\n",
       "  'https://finance.yahoo.com/news/earnings-estimates-rising-synopsys-snps-162004458.html',\n",
       "  'https://finance.yahoo.com/news/twist-bioscience-collaborates-regeneron-production-120100217.html',\n",
       "  'https://uk.finance.yahoo.com/news/snp-confirms-talks-acquisition-software-163703012.html']}"
      ]
     },
     "execution_count": 54,
     "metadata": {},
     "output_type": "execute_result"
    }
   ],
   "source": [
    "cleaned_urls"
   ]
  },
  {
   "cell_type": "markdown",
   "id": "1f51defa",
   "metadata": {},
   "source": [
    "## scrape from urls"
   ]
  },
  {
   "cell_type": "code",
   "execution_count": 78,
   "id": "d112bd9f",
   "metadata": {},
   "outputs": [],
   "source": [
    "def scrape_and_process(URLs):\n",
    "    ARTICLES = []\n",
    "    for url in URLs:\n",
    "        r = requests.get(url)\n",
    "        soup = BeautifulSoup(r.text, 'html.parser')\n",
    "        paragraphs = soup.find_all('p')\n",
    "        text = [paragraph.text for paragraph in paragraphs]\n",
    "        words = ' '.join(text).split(' ')[:300]\n",
    "        ARTICLE = ' '.join(words)\n",
    "        ARTICLES.append(ARTICLE)\n",
    "    return ARTICLES"
   ]
  },
  {
   "cell_type": "code",
   "execution_count": 79,
   "id": "480a180b",
   "metadata": {},
   "outputs": [],
   "source": [
    "articles = {ticker:scrape_and_process(cleaned_urls[ticker]) for ticker in monitored_tickers}"
   ]
  },
  {
   "cell_type": "code",
   "execution_count": 80,
   "id": "9e69d593",
   "metadata": {},
   "outputs": [
    {
     "data": {
      "text/plain": [
       "{'PLTR': ['Palantir Technologies Inc. (NYSE: PLTR) confirmed today it will support the United States Space Force and United States Air Force by providing its software to the critical missions of the Department of the Air Force (DAF), Space and Missile Systems Center’s Cross-Mission Ground & Communications Enterprise (SMC/ECX), and NORAD-NORTHCOM. This is a firm-fixed-price award totaling $32.5 million. Palantir will deploy and maintain Palantir as Data-as-a-Service (DaaS) platform to support SMC/ECX’s Space Command and Control program element, including operational users at both the National Space Defense Center and the Combined Space Operations Center. Department of the Air Force’s Project Brown Heron will use Palantir to provide the U.S. Air Force senior leadership with a continuously improving operational readiness analytics platform by integrating disparate data sources from across the Service. This will improve the DAF’s readiness in a variety of mission-critical areas, cutting across organizational and functional silos. Additionally, Palantir will support NORAD-NORTHCOM’s Joint All Domain Command and Control (JADC2) transformation, ingesting and modeling high-scale data to support comprehensive and collaborative operational planning and execution. \"I’m excited about this partnership and the work we are doing to provide better data-driven decision making to our leadership. Palantir’s technology and framework has truly accelerated our ability to remove data stovepipes throughout the community and create actionable knowledge,\" said Col. Jennifer Krolikowski, the senior materiel leader for Space C2 at the Air Force Space and Missile Systems Center. Palantir has a long tradition of providing cutting-edge technology to the country’s armed forces. It previously worked with the Space Force in 2020, with a one-year contract to provide a data backbone for the space command and control modernization program, using its Foundry software to help create a common operating picture of space. \"Our Nation’s Service Members deserve the best technology possible to win. It’s an honor',\n",
       "  '- By Margaret Moran Soros Fund Management LLC recently disclosed its portfolio updates for the first quarter of 2021, which ended on March 31. Founded by George Soros (Trades, Portfolio) in 1969, Soros Fund Management is the primary advisor for the Quantum Group of Funds. After helping define the modern hedge fund, the firm converted to a family office in 2011, becoming closed to outside investors and avoiding new regulatory oversight. Soros\\' investing principles are based on his theory of \"reflexivity,\" which holds that individual investor biases affect both market transactions and the economy. This results in chaotic financial markets and the mispricing of assets, providing value opportunities for the careful investor. Warning! GuruFocus has detected 3 Warning Sign with AMZN. Click here to check it out.  AMZN 15-Year Financial Data The intrinsic value of AMZN Peter Lynch Chart of AMZN  Based on its investing criteria, the firm\\'s top stock buys for the quarter were Amazon.com Inc. (NASDAQ:AMZN) and ViacomCBS Inc. (NASDAQ:VIAC), while its biggest sells were Palantir Technologies Inc. (NYSE:PLTR) and Liberty Broadband Corp. (NASDAQ:LBRDK). Amazon.com The firm increased its investment in Amazon.com (NASDAQ:AMZN) by 63,413 shares, or 1,136.23%, for a total of 68,994 shares. The trade had a 4.20% impact on the equity portfolio. During the quarter, shares traded for an average price of $3,171.97. Amazon is a multinational e-commerce giant based in Seattle. Its vast network allows it to deliver many products to customers within one or two days, giving it tremendous pricing power. The company also has cloud computing, digital streaming, artificial intelligence and other tech operations. On May 21, shares of Amazon traded around $3,203.08 for a market cap of $1.62 trillion and a price-earnings ratio of 60.93. According to the GuruFocus Value chart, the stock is fairly valued. The company has a',\n",
       "  'Palantir Technologies Inc (NYSE: PLTR) offered its software to the critical missions of the Department of the Air Force (DAF), Space and Missile Systems Center’s Cross-Mission Ground & Communications Enterprise (SMC/ECX), and NORAD-NORTHCOM. The aggregate firm-fixed-price award was worth $32.5 million. Palantir as Data-as-a-Service (DaaS) platform will support SMC/ECX’s Space Command and Control program element at both the National Space Defense Center and the Combined Space Operations Center. Department of the Air Force’s Project Brown Heron will utilize Palantir’s operational readiness analytics platform. Additionally, Palantir will support NORAD-NORTHCOM’s Joint All Domain Command and Control (JADC2) transformation, ingesting, and modeling high-scale data. Price action: PLTR shares traded higher by 1.35% at $21.03 in the premarket session on the last check Monday. See more from Benzinga Click here for options trades from Benzinga Palantir Stock Falls After Beating Q1 Revenue, Dip In Q2 Operating Margin Guidance © 2021 Benzinga.com. Benzinga does not provide investment advice. All rights reserved. Related Quotes The financial regulations require hedge funds and wealthy investors that exceeded the $100 million holdings threshold to file a report that shows their positions at the end of every quarter. Even though it isn’t the intention, these filings to a certain extent level the playing field for ordinary investors. The latest round of 13F filings […] EV Aircraft company Vertical Aerospace announced last week that they would go public via a SPAC merger. Below is a new list using the same criteria we used to pull this list of heavily shorted stocks during the Reddit/Robinhood mania in late January.  The biggest short squeeze in the Russell 3000 appears to be Virgin Galactic Holdings Inc.  (SPCE) which more than doubled in four weeks and was 27.82% sold short on June 11. ‘The pandemic sent my life back to the 1950s, as',\n",
       "  'Palantir Technologies (PLTR) has expanded its strategic partnership with the U.S. Space Force and U.S. Air Force, proving its ability to offer cutting-edge technologies. As part of the new deal, the company will provide software for powering advanced critical missions. Palantir is a software company specializing in big data analytics. Additionally, Palantir will use its Data-as-a-Service (DaaS) platform to support the Space Command and Control program. The company\\'s solutions will also provide senior leadership at the Air Force with an analytics platform that merges data sources from across the Service. The total value of the contract is $32.5 million. “Palantir’s technology and framework has truly accelerated our ability to remove data stovepipes throughout the community and create actionable knowledge,\" said Col. Jennifer Krolikowski, Senior Materiel Leader for Space C2 at the Air Force Space and Missile Systems Center. Palantir boasts of a long tradition of working with the armed forces. In 2020, it worked with the Space Force and provided data support for the space command and control modernization program. (See Palantir stock analysis on TipRanks) Goldman Sachs analyst Christopher Merwin has reiterated a Buy rating on Palantir in the wake of the company\\'s reporting 49% revenue growth year-over-year in Q1. According to the analyst, the impressive first quarter was due to strong U.S. business even as headwinds lingered on the international scene. Merwin stated, “We were encouraged to see that the commercial business added 11 new customers in the quarter, as Palantir’s efforts to broaden distribution for its Foundry platform are already paying off. As the company adds more GSI partners and continues to modularize Foundry, we expect to see a sustainably higher pace of customer additions going forward.” However, the analyst has cut his stock price target to $30 from $34 due to multiple compression in comparable companies.',\n",
       "  'In this article we will take a look at the 10 Best SaaS stocks to buy and hold for long-term profits. You can skip our detailed analysis of the SaaS industry and long-term growth catalysts for SaaS stocks, and go directly to 5 Best SaaS Stocks to Buy and Hold for Long-Term Profits. Software-as-a-Service, or SaaS, companies have been seeing an exponential rise in interest from investors over the last several years, thanks to their attractive products, explosive growth and promising returns. Earlier this year, data from Kroll Bond Rating Agency Inc. and S&P Global Market Intelligence showed that big lenders are pouring billions into software companies for long-term returns. The report said that nonbank lenders like Golub Capital, AllianceBernstein Holdings LP and Owl Rock Capital Partners LP have issued asset-backed bonds to finance a whopping $2 billion of loans to certain software companies since November 2020. Top SaaS companies usually have limited operating costs and have users in the millions. According to a report by BCC Research, the global SaaS Market for business applications is expected to reach $94.9 million by 2022 from $44.4 billion in 2017, growing at a CAGR of 16.4% from 2017 to 2022. The markets are also experiencing a huge influx of SaaS IPOs, especially after the pandemic. In 2021, notable SaaS IPOs include collaboration software-as-a-service (SaaS) vendor monday.com Ltd. (NASDAQ: MNDY), WalkMe Ltd. (NASDAQ: WKME), Qualtrics International Inc. (NASDAQ: XM), Coupang, Inc. (NYSE: CPNG), DigitalOcean Holdings, Inc. (NYSE: DOCN) and AppLovin Corporation (NASDAQ: APP). Companies like Shopify Inc (NYSE: SHOP), Amazon.com, Inc. (NASDAQ: AMZN), Palantir Technologies Inc. (NYSE: PLTR), Microsoft Corporation (NASDAQ: MSFT) and Salesforce.com, inc. (NYSE: CRM) are posting spectacular growth, especially after the pandemic, benefiting from trends like work from home, ecommerce, cybersecurity attacks, increasing consumption of entertainment and gaming content. Baffling',\n",
       "  'Palantir Technologies (PLTR) revealed that it has signed a deal worth $111 million with the United States Special Operations Command (USSOCOM) to continue to serve as its enterprise data management and AI-enabled mission command platform. This is a part of the Mission Command System/Common Operational Picture program. The entire contract includes a base year and an additional one-year extension option. (See Palantir Technologies stock analysis on TipRanks) Palantir’s Global Defense Lead Doug Philippone commented, “When Special Operators are risking their lives in no fail scenarios, they deserve technology that works. Our partnership with USSOCOM was one of our first in the U.S. military, and we are honored to keep providing technology that gets the job done while we partner on the future of what is possible.” Palantir has been serving the USSOCOM for the last ten years. Furthermore, the company’s platform has been used together with other global situational awareness architecture components on real-time mission operations since 2016. Following the first-quarter results, RBC Capital analyst Matthew Hedberg reiterated a Hold rating and decreased the price target from $27 to $20 (12.9% downside potential) on the stock. Hedberg said that price target reduction comes from the comp group’s multiple compression though the company reported strong revenue, margins, and cash flows during the quarter. Overall, the stock has a Hold consensus rating based on 2 Buys, 3 Holds, and 4 Sells. The average analyst price target of $21.75 implies 5.2% downside potential from current levels. Shares of PLTR have jumped 141.6% over the past year. Related News: HIBB Tops Q1 Estimates, Raises FY22 Guidance Big Lots Posts Upbeat Q1 Results; Shares Drop 5.5% LiveXLive Media to Snap up Gramophone Media  FDA Extends Review Period for Verrica Pharmaceuticals’ VP-102 Drug Application   Pembina Pipeline Offers to Buy Rival Inter Pipeline for',\n",
       "  'Palantir Technologies (NYSE:PLTR) announced today it had been selected by the United States Special Operations Command (USSOCOM) to continue its work as their enterprise data management and AI-enabled mission command platform as part of the Mission Command System/Common Operational Picture program. The contract is valued at a total of $111 million, inclusive of options, with $52.5 million executed upon award. The total contract includes a base year and one option year. Palantir\\'s platform has been used by USSOCOM in real-time mission operations to interoperate with other components of the global situational awareness architecture since 2016. Palantir’s software is designed to aggregate disparate and siloed data sources to enable the best possible data-driven decision-making, making Palantir uniquely suited to provide a platform to support unity of effort and enhance high impact decision-making across warfighting functions. \"When Special Operators are risking their lives in no fail scenarios, they deserve technology that works. Our partnership with USSOCOM was one of our first in the U.S. military, and we are honored to keep providing technology that gets the job done while we partner on the future of what is possible,\" said Doug Philippone, Palantir’s Global Defense Lead. Palantir’s technology enables real-time collaboration across USSOCOM and its allies, giving its commanders situational awareness at a global scale, bringing AI to the battlefield, and improving the ability to respond to near-peer threats. Palantir\\'s software is used for the full life cycle of today’s continuous operations; from planning, to review coordination and approval, through to battle tracking of the actual mission execution. Palantir is proud to have supplied technology to USSOCOM for the past decade. About Palantir Technologies  Palantir Technologies is a software company that builds enterprise data platforms for use by organizations with complex and sensitive data environments. From building safer cars and planes, to',\n",
       "  'Investors are increasingly showing interest in data analytics stocks. Data is used in different ways in organizations, from revamping their marketing strategy to understanding customers better and personalizing content. Data analytics software companies help organizations make sense of this data and use it effectively. According to a Market Research Future (MRFR) report from earlier this year, the global data analytics market is expected to be worth $132.9 billion by 2026, indicating a compounded annual growth rate (CAGR) of 28.9% from 2016 to 2026. Using the TipRanks Stock Comparison tool, let us compare two data analytics companies, Palantir Technologies, and Splunk, and see how Wall Street analysts feel about these stocks. Palantir Technologies (PLTR) Palantir Technologies is a data analytics company that has developed two data analytics platforms, Gotham and Foundry. Gotham specifically addresses the needs of the intelligence sector and enables such customers to identify patterns in datasets. Meanwhile, Foundry addresses the data analytics needs of companies. 61% of PLTR’s customers were government agencies at the end of Q1 while commercial customers made up the remaining 39%. Last week, Palantir announced its Q1 results with total revenues of $341 million, a jump of 49% year-on-year. On an adjusted basis, Palantir earned $0.04 per diluted share in Q1, versus an adjusted loss of $0.01 per diluted share in the same quarter last year. Average revenue per customer increased 29% year-over-year to $8.1 million during the trailing twelve months ending on March 31. However, Palantir expects the growth rate for average revenue per customer to slow down as it targets customers across different segments, particularly the middle market and small-to-medium business enterprises (SMBs) in a bid to broaden its customer base. In the second quarter, PLTR expects revenues to grow 43% year-over-year to $360 million. The company anticipates revenues to rise at',\n",
       "  \"Palantir (PLTR) is a leading data analytics and artificial intelligence software company with a mission of ensuring that the West achieves dominance in the exploding world of data and machine learning. The company's primary customer for its first two decades of operation has been the United States Government, through its Gotham platform. Now the company is investing heavily in growing its Foundry platform, which services medium and large sized companies. It is also growing its Gotham platform to include a greater piece of the United States Government’s spending as well as defense contractors and allied governments. (See Palantir stock analysis on TipRanks) Growing Rapidly The main value for PLTR currently comes from its world-class data analytics and artificial intelligence platforms. These enable government agencies and corporations to manage, extract significant value from, and optimize large troves of data. They also provide a very rapid and user-friendly data integration and set-up experience. As a result of the value they add to an organization as well as the mission critical nature of their industry, Palantir is able to command significant switching costs, and therefore enjoys pricing power and sticky customer relationships that often see contracts expand over time. The company is experiencing rapid growth across its businesses, particularly in the United States, and management is investing aggressively to recruit and retain the best engineers and sales personnel. It is striving to deliver the highest quality product possible while also scaling the business as rapidly as they can. They company seeks to gain a larger portion of the pie of its ~$120 billion total addressable market. Currently, it has only ~1% of that total market, so the company enjoys a massive growth runway. Management projects that the company will grow by at least 30% per year for the foreseeable future, which should enable\",\n",
       "  \"2021 has been the year of the meme stock. Meme stocks have risen higher and faster than many of the traditional big name high flyers this year. These stocks are being pushed higher by traders on social media. Wendy's Company (WEN) and Palantir Technologies (PLTR) are two stocks that have recently generated a lot of attention, but which is a better buy? Read more to find out. While 2020 was quite a year for electric vehicle stocks, 2021 is shaping up to be a year whose headlines are dominated by meme stocks. Meme stocks became popular earlier this year as retail investors sent the price of struggling video game retailer GameStop (GME) to ridiculous heights. GME went from $19.95 on January 12th to $325 on January 29th. This 1,529% gain over two weeks was attributed to traders in Reddit's r/wallstreetbets subreddit pumping up the stock to create a short squeeze. This was repeated for a few more stocks before things quieted down for a little while. But meme stocks have recently made a comeback, with shares of companies like Blackberry (BB) AMC Entertainment Holdings (AMC) soaring. These stocks are not rising due to company performance; instead their gains result from social media attention, hence the name meme.  Even though major companies like Apple (AAPL) had stellar earnings results, their price performance is being dwarfed by these speculative stocks. So, are these companies even worth investing in? I'd like to answer that question by highlighting two stocks that have recently generated strong returns due to mentions in Reddit: Wendy's Company (WEN) and Palantir Technologies (PLTR). Wendy's Company (WEN) WEN is the world's third-largest quick-service restaurant company, operating in three segments: Wendy's U.S., Wendy's International, and Global Real Estate & Development. The company is known for its hamburger sandwiches but also\"],\n",
       " 'BB': ['A guide to finding the right travel insurance for the summer holidays The Blackberry  (NYSE: BB) share price is up by 30% in five days. This tech stock has been the fourth-most traded stock on UK broker platform Hargreaves Lansdown over the last week. Blackberry’s share price has risen by 170% over the last 12 months as the firm’s turnaround has gathered pace. The former smartphone maker has pivoted into cybersecurity and announced a partnership with Amazon last year. Brokers expect a return to profit next year. Should I start buying BB stock? Blackberry isn’t a start-up with big hopes and few customers. This business generated revenue of nearly $900m last year and is expected to return to profitability next year. Key products include the group’s Spark suite of cybersecurity products, and QNX. This is an operating system that installed in more than 175m vehicles worldwide and is also used in other automation environments. Analysts are bullish on the outlook for the business. The latest consensus forecasts show Blackberry generating a $60m net profit next year. That figure is expected to triple to $182m the following year. I think the company could be on the verge of a winning streak. Of course, Blackberry isn’t a sure thing. A growing number of companies are applying artificial intelligence techniques to cybersecurity. One interesting example is Darktrace, which recently listed on the London market. Another risk is that in my experience, it’s quite rare for companies to reinvent themselves successfully. More often, they tend to fall short and get left behind by newer businesses with less baggage. So far, I have to admit that I’m impressed with Blackberry’s progress. But this business is still losing money and its cash balance has been falling. Even if this business does turn profitable next year',\n",
       "  '(Updates throughout, adds bylines, quotes)\\xa0 \\xa0\\xa0By Aaron Saldanha, Sinéad Carew and David Randall\\xa0 \\xa0\\xa0June 7 (Reuters) - Shares of AMC Entertainment and other \"meme stocks\" supported by individual traders jumped on Monday, extending a rally in social-media favorites into a third week as message boards hummed with talk about the potential to squeeze Wall Street short-sellers.\\xa0 \\xa0\\xa0The sharp gains, however, have caught the attention of regulators at the Securities and Exchange Commission. On Monday the agency said it is looking into signs of market manipulation given the \"volatility in certain stocks.\"\\xa0 \\xa0\\xa0The volatility has also made it challenging for analysts to cover, with two analysts in the past week dropping coverage of GameStop, the stock that was catapulted higher in January by retail investors.\\xa0 \\xa0\\xa0Cinema operator AMC Entertainment Holdings, which almost doubled in value again last week, was last up 21.1% at $58.00 while BlackBlerry\\'s U.S. listing climbed 15.0% to $15.94 and put it up 56% since the start of June. Canadian cannabis producer Tilray\\'s U.S. listing, meanwhile, surged 7.1%.\\xa0 \\xa0\\xa0\"AMC never ceases to amaze me. Just when I think that train is over, it jumps almost 10 points in the first 30 min of trading,\" one poster on Reddit wrote.\\xa0 \\xa0\\xa0Shares of AMC are up more than 2,500% for the year to date as it has courted individual investors, while shares of video game retailer GameStop are up about 1,305% over the same time.\\xa0 \\xa0\\xa0However some bearish investors retreated from bets against AMC on Friday as the stock fell 6.7% that day with short interest falling 74.5 million shares, or 14.9% of AMC\\'s float by the end of trade Friday from 88.2 million on Thursday, according to S3 Partners.\\xa0 \\xa0\\xa0Institutional investors are largely sitting on the sidelines as the meme-stock rally driven by individual investors continues.\\xa0 \\xa0\\xa0These individual investors',\n",
       "  'SHANGHAI, China and WATERLOO, ON, June 7, 2021 /PRNewswire/ -- BlackBerry Limited (NYSE: BB; TSX: BB) today announced that its QNX® Neutrino® Realtime Operating System (RTOS), has been adopted in a new digital LCD cluster jointly developed with BiTECH Automotive (Wuhu) Co., Ltd. The digital instrument cluster is being installed in Changan Automobile\\'s new SUV, the UNI-K, which has entered mass production, providing a personalized user experience for drivers while ensuring the safety, security and reliability of the SUV\\'s critical systems. The Changan UNI-K is a new mid-to-high-end SUV which features an advanced smart driving assistance program and a smart cockpit with an Interactive Monitoring System (IMS). The LCD digital instrument cluster comprises three parts, with the left section displaying tire pressure and door conditions; the middle section highlighting the vehicle\\'s speed, augmented reality real-view navigation, a multimedia interface and vehicle status; and the right section comprising a digital rear-view mirror, the tachometer, and the fuel gauge. The variety of information displayed by the LCD digital instrument cluster ensures it adequately meets the diversified needs of consumers. Powered by the QNX Neutrino RTOS, the Changan UNI-K\\'s LCD digital instrument cluster provides a comprehensive, multi-level, policy-driven security model incorporating best-in-class security technologies from BlackBerry that help guard against system malfunctions, malware and cyber security breaches. The BlackBerry QNX Neutrino RTOS supports both the 64-bit ARMv8 computing platform and Intel x86-64 architecture, while ISO 26262 ASIL D certification by TÜV Rheinland ensures that OEMs and manufacturers can utilize the QNX Neutrino RTOS to build connected cars with proven safety and reliable protection performance. \"Automakers are keen to enhance the visual appearance of digital dashboards while conveying critical information to drivers to gain a competitive advantage in the field. We are pleased to partner with BiTECH to launch this innovative digital LCD instrument',\n",
       "  'The Fed has signalled the first course of action would involve easing its asset purchase program The last few trading sessions have seen shares of fundamentally weak companies such as BlackBerry, GameStop, and several others gain momentum on the back of a short squeeze initiated by retail traders. Another TSX stock with a rising short-interest ratio is WELL Health Technologies (TSX:WELL). However, WELL Health differs from companies such as the ones mentioned above, as it is part of a rapidly expanding market, allowing it to grow revenue and earnings at a fast clip. It has a strong balance sheet and robust financials. But WELL stock has been a hot topic of discussion for the past month after analysts noted the potential for a short squeeze. Now, this potential has only gotten greater after the announcement of the company’s acquisition of MyHealth and a planned U.S. IPO.  WELL is one of the companies on the cutting edge of the digital health revolution. It is a leading disruptor with its unique approach to patient care. Further, its industry-leading telehealth platform is designed to positively impact millions of lives.  WELL has been gaining momentum with an impressive list of acquisitions this year. These include major additions such as WELL’s $373 million acquisition of CRH Medical on April 22, 2021, which marks its latest entry into the U.S. market. With this acquisition, WELL now owns a company that supports thousands of physicians in all lower 48 U.S. states.  Of course, WELL was already one of Canada’s largest healthcare clinic operators. But now, the company has genuinely positioned itself to become the most prominent digital healthcare disruptor in all of North America.  On its latest earnings call, WELL Health’s management announced it has engaged law firm Fenwick & West as it',\n",
       "  'The Fed has signalled the first course of action would involve easing its asset purchase program BlackBerry (TSX:BB)(NYSE:BB) stock is at the cusp of the Reddit frenzy 2.0. It all started last week, and it will likely end by the middle of next week. Between May 25 and June 3, the stock surged 84%, as Redditors began buying the stock in which hedge fund managers have short positions. Redditors succeeded in their mission to force hedge fund managers to square up their short position and buy the stock at a premium. Before I jump to the momentum, BlackBerry stock’s average trading price is around $10-$11, and its average trading volume is 4.4 million shares. But the Reddit frenzy has boosted both price and volume, and traders are having a crazy time playing “Fastest Finger First.” On June 3, BlackBerry stock had a day high of $24.35 and a day low of $16.42. That’s a 30% gap between a day’s high and low. Moreover, the trading volumes are crazy at 34 million shares, eight times its average trading volume.  For the last few days, I have been warning you about greed for BlackBerry. Unless you are a skilled trader, you may not be able to sell the stock at the desired price. The volatility is too high, and the volumes that you are looking at are like a tsunami. And you don’t surf in a tsunami. So, if you are thinking of selling BlackBerry stock at $24, your order might not get executed. That’s not how stock trading happens in such cases. And if you sell the stock, even at $18, consider yourself lucky, as it is a 60% return from its average trading price.  At Motley Fool, we recommend a long-term investment strategy. BlackBerry is a long-term buy,',\n",
       "  \"AMC ANALYST, Macquarie Group Senior Analyst, Chad Beynon,  joins Yahoo Finance to discuss the state of AMC after the ‘Reddit Mania’ led to a share rally and how the new investors are playing a role in the company’s future plans. [MUSIC PLAYING] JULIE HYMAN: Well, we were just talking mostly GameStop. Let's turn it to AMC, which, of course, has been the other sort of textbook-- if there is a textbook-- meme stock. And bring in Chad Beynon, who covers the stock over at Macquarie. Chad, it's a tough job, but somebody's got to do it, I guess. You've got a neutral rating on the stock. You've got a $6 price target. And you basically say, no theater stock has ever traded at this kind of a valuation. So what do you do from a valuation perspective and trying to crunch the numbers on something like this? CHAD BEYNON: Thanks, Julie. Thanks for having me. You know, I'd say we're continuously improving our process in terms of, you know, how we're recommending our stock valuations to institutional holders. We've been looking at, you know, some of the option trading, some of the volume, some of the correlations with other meme stocks in the past couple weeks. And, you know, this stock that went from mid teens up to $60 has kind of reverted back to $45. So we're not going to continuously update our price target, you know, every week or every couple days. Obviously, there were a few important fundamental characteristics that came out last week with the equity raises. But we're still analyzing. We're still improving our due diligence. As you mentioned, fundamentally things are getting better. But we're still not back to where movie theater attendance was back in 2019. BRIAN SOZZI: Chad, we just talked\",\n",
       "  'BlackBerry Limited BB recently announced that it has collaborated with BiTECH Automotive (Wuhu) Co., Ltd — a China-based automotive parts manufacturer — to offer a digital LCD instrument cluster for a more personalized driving experience. The product is already being used for the mass production of a new SUV dubbed UNI-K, manufactured by Changan Automobile — a leading China-based automaker.The operating system of these models is run by BlackBerry QNX Neutrino real-time operating system. It offers a comprehensive secure and intelligent connected vehicle software platform for safe driving decisions and in-vehicle applications. The digital LCD instrument cluster offers an advanced smart driving assistance program and a smart cockpit with an Interactive Monitoring System, displaying a variety of information for the diversified needs of consumers. These include tire pressure, door conditions, vehicle speed, augmented reality real-view navigation, a multimedia interface, a digital rear-view mirror, the tachometer and the fuel gauge.In addition to real-time performance with functional safety and cybersecurity features, the product delivers a visually appealing instrument cluster that enhances the notional value of the car. This, in turn, is likely to encourage more OEMs and auto manufacturers to install it in their upcoming as well as existing models to build connected cars with proven safety and reliable protection performance.BlackBerry QNX offers a broad portfolio of software solutions for the automotive industry. These include infotainment, connectivity, in-car network security, type-1 hypervisor supporting multiple ECU (engine control unit) integration into domain controllers, ADAS (advanced driver-assistance systems) and acoustics. Its Over-The-Air software update platform ensures security of the automotive software for flexible, scalable solutions for vehicle systems and the next generation of connected and autonomous vehicle architecture.The alliance aims to harness the unique capabilities of QNX software to enable automotive OEMs to build more integrated smart cabin system solutions along with state-of-the-art connected',\n",
       "  'The Fed has signalled the first course of action would involve easing its asset purchase program When it comes to investing, by looking back at history, investors should be able to see that patience pays off. Whether it’s oil and gas, banking, gold, or housing, everything eventually makes a comeback. That’s why investing in stocks over the long term is one of the top strategies we recommend here at the Motley Fool. Even if you take into account Black Monday in 1987, the Great Recession, the dot-com bubble, and the SARS and COVID-19 crashes, the TSX has still delivered over 1,000% since 1980! Yet even with 1,000% growth, this is nothing when looking at the jump in share price of some stocks today. Let’s look at BlackBerry (TSX:BB)(NYSE:BB) for example. In the last month alone, shares have climbed 85%! In the last year, shares increased 146%. And since it came on the market, it’s beaten out the TSX to rise 1,086% in just two decades. However, I wouldn’t be so quick to continue investing in the “pump-and-dump” stock. Earlier this month, BlackBerry stock rose dramatically, as retail traders began to purchase shares in bulk. This was fuelled mainly by interest on the social news aggregate site Reddit. Shares of BlackBerry stock rose by 85% in a month, as I mentioned, but those share increases are likely to be short lived. Although BlackBerry stock has seen some incredible gains, it’s mainly driven by hype, momentum, and, frankly, ignorance of the actual fundamentals of this company. In other words, BlackBerry stock is a bubble that will soon burst. Investors may cite the innovation taken on by BlackBerry stock, and it’s true! The company is a leader in cybersecurity and cloud-based protection specifically for smart driving cars. But if you do more research,',\n",
       "  \"BlackBerry (BB) closed the most recent trading day at $15.80, moving +0.19% from the previous trading session. The stock outpaced the S&P 500's daily gain of 0.02%. Coming into today, shares of the cybersecurity software and services company had gained 93.97% in the past month. In that same time, the Computer and Technology sector gained 2.08%, while the S&P 500 gained 0.04%. Investors will be hoping for strength from BB as it approaches its next earnings release. The company is expected to report EPS of -$0.06, down 400% from the prior-year quarter. Looking at the full year, our Zacks Consensus Estimates suggest analysts are expecting earnings of -$0.09 per share and revenue of $807 million. These totals would mark changes of -150% and -12.19%, respectively, from last year. Any recent changes to analyst estimates for BB should also be noted by investors. Recent revisions tend to reflect the latest near-term business trends. As a result, we can interpret positive estimate revisions as a good sign for the company's business outlook. Based on our research, we believe these estimate revisions are directly related to near-team stock moves. Investors can capitalize on this by using the Zacks Rank. This model considers these estimate changes and provides a simple, actionable rating system. The Zacks Rank system, which ranges from #1 (Strong Buy) to #5 (Strong Sell), has an impressive outside-audited track record of outperformance, with #1 stocks generating an average annual return of +25% since 1988. Within the past 30 days, our consensus EPS projection remained stagnant. BB is holding a Zacks Rank of #3 (Hold) right now. The Computers - IT Services industry is part of the Computer and Technology sector. This industry currently has a Zacks Industry Rank of 106, which puts it in the top 42% of all 250+ industries.\",\n",
       "  \"WATERLOO, ON, June 10, 2021 /PRNewswire/ -- BlackBerry Limited (NYSE: BB; TSX: BB) will report results for the first quarter of fiscal year 2022 at 5:30 p.m. ET on Thursday, June 24, 2021. The conference call can be accessed by dialing +1 (877) 682-6267 or live streamed on the Company's website at BlackBerry.com/Investors. A replay of the conference call will be available at approximately 8:30 p.m. ET on June 24, 2021, by dialing +1 (800) 585-8367 and entering Conference ID #2676452. It will also be available at the link above. The following table gives target dates for quarterly earnings announcements for the remainder of Fiscal Year 2022. The dates given are for planning purposes only and a press release confirming the earnings date will be issued approximately 2 weeks before.  Q2 FY2022 Q3 FY2022 Q4 FY2022 Quarter start Jun 1, 2021 Sep 1, 2021 Dec 1, 2021 Quarter end Aug 31, 2021 Nov 30, 2021 Feb 28, 2022 Target Earnings Date Sep 22, 2021 Dec 21, 2021 Mar 31, 2022     About BlackBerry BlackBerry (NYSE: BB; TSX: BB) provides intelligent security software and services to enterprises and governments around the world. The company secures more than 500M endpoints including 175M cars on the road today. Based in Waterloo, Ontario, the company leverages AI and machine learning to deliver innovative solutions in the areas of cybersecurity, safety and data privacy solutions, and is a leader in the areas of endpoint security management, encryption, and embedded systems. BlackBerry's vision is clear - to secure a connected future you can trust. BlackBerry. Intelligent Security. Everywhere. For more information, visit BlackBerry.com and follow @BlackBerry. Investor Contact:BlackBerry Investor Relations+1 (519) 888-7465investor_relations@BlackBerry.com Media Contact:BlackBerry Media Relations+1 (519) 597-7273mediarelations@BlackBerry.com View original content to download multimedia:http://www.prnewswire.com/news-releases/blackberry-to-announce-first-quarter-fiscal-year-2022-results-on-june-24-2021-301310163.html SOURCE BlackBerry Limited Related Quotes EV Aircraft company\"],\n",
       " 'SNPS': [\"NEW YORK, NY / ACCESSWIRE / May 19, 2021 / Synopsys, Inc. (NASDAQ:SNPS) will be discussing their earnings results in their 2021 Second Quarter Earnings call to be held on May 19, 2021 at 5:00 PM Eastern Time. To listen to the event live or access a replay of the call - visit https://www.investornetwork.com/event/presentation/79417 To receive updates for this company you can register by emailing info@investornetwork.com or by clicking get investment info from the company's profile. About Investor Network Investor Network (IN) is a financial content community, serving millions of unique investors market information, earnings, commentary and news on what's trending. Dedicated to both the professional and the average traders, IN offers timely, trusted and relevant financial information for virtually every investor. IN is an Issuer Direct brand, to learn more or for the latest financial news and market information, visit www.investornetwork.com. Follow us on Twitter @investornetwork. SOURCE: Investor Network View source version on accesswire.com: https://www.accesswire.com/647982/Synopsys-Inc-to-Host-Earnings-Call Related Quotes EV Aircraft company Vertical Aerospace announced last week that they would go public via a SPAC merger. Below is a new list using the same criteria we used to pull this list of heavily shorted stocks during the Reddit/Robinhood mania in late January.  The biggest short squeeze in the Russell 3000 appears to be Virgin Galactic Holdings Inc.  (SPCE) which more than doubled in four weeks and was 27.82% sold short on June 11. ‘The pandemic sent my life back to the 1950s, as I had to cook, provide tech support and homeschool our child.' (Bloomberg) -- Members of the Walton family have sold 16.7 million shares of Walmart Inc. this year as they try to keep their stake in the world’s biggest retailer from ballooning amid the company’s stock buybacks.The Walton Family Holdings Trust sold $430 million worth over\",\n",
       "  'A study by Synomics, has identified a pathway for improving egg weights in laying hens by analysing variations within specific genes, then targeting birds for selected breeding. Egg weight varies between 50 and 70g depending on the age of the hen and its genotype. Egg weight is a heritable trait with genetics playing a key role; it’s also hugely important when it comes to farmers’ profitability. Synomics used a development of a platform proven in human science to analyse data from more than 1,000 laying hens which each had more than 295,000 Single Nucleotide Polymorphisms (SNPs). Whereas genes are easy to find, and contain 100s of SNPs, being able to single out the SNPs that sit inside or outside the genes orchestrating the gene function and, crucially, regulating associated traits (in this case egg weight) is the holy grail. It is these SNPs that provide the pathway for identifying animals that can be grown or bred to be healthier, more disease resistant, or deliver higher yields. An added benefit is that these insights can also empower scientists with the information to develop new drugs and treatments. Identifying a small number of high-impact SNPs is much more valuable to scientists than simply identifying a large number of SNPs. By applying Synomics’ platform, scientists can target genes for intervention with more certainty and bring products/solutions to market more rapidly and at less expense. Current practices are limited to looking at the impact of each individual SNP, but scientists know that many traits are the result of SNPs acting in complex combinations. Synomics can analyse and map these combinations, identifying previously disregarded high impact SNPs. Synomics detected 2,018 highly predictive SNPs which mapped to 122 genes as targets for intervention. When it’s considered that a hen could have upwards of 20,000 genes, narrowing',\n",
       "  \"MOUNTAIN VIEW, Calif., June 9, 2021 /PRNewswire/ -- Synopsys, Inc. (Nasdaq: SNPS) today announced that Jason Schmitt, general manager, Software Integrity Group, will speak at the Berenberg Thematic Software Days Conference on June 17, 2021. This event will be broadcast live on the Internet via the Synopsys corporate website at https://www.synopsys.com/company/investor-relations.html, on Thursday, June 17, 2021, at 4:00 p.m. BST (8:00 a.m. PDT). The webcast replay of the presentation will be available at the Synopsys corporate website approximately one hour following the conclusion of the live event. About Synopsys Synopsys, Inc. (Nasdaq: SNPS) is the Silicon to Software™ partner for innovative companies developing the electronic products and software applications we rely on every day. As an S&P 500 company, Synopsys has a long history of being a global leader in electronic design automation (EDA) and semiconductor IP and offers the industry's broadest portfolio of application security testing tools and services. Whether you're a system-on-chip (SoC) designer creating advanced semiconductors, or a software developer writing more secure, high-quality code, Synopsys has the solutions needed to deliver innovative products. Learn more at www.synopsys.com. Investor Contact:Roberta ReidSynopsys, Inc.(650) 584-1901 View original content:http://www.prnewswire.com/news-releases/synopsys-to-speak-at-berenberg-thematic-software-days-conference-301309387.html SOURCE Synopsys, Inc. Related Quotes EV Aircraft company Vertical Aerospace announced last week that they would go public via a SPAC merger. Below is a new list using the same criteria we used to pull this list of heavily shorted stocks during the Reddit/Robinhood mania in late January.  The biggest short squeeze in the Russell 3000 appears to be Virgin Galactic Holdings Inc.  (SPCE) which more than doubled in four weeks and was 27.82% sold short on June 11. ‘The pandemic sent my life back to the 1950s, as I had to cook, provide tech support and homeschool our child.' (Bloomberg) -- Members of the Walton family have sold\",\n",
       "  'Q2 2021 Financial Highlights - Revenue: $1,024.3 million - GAAP earnings per share: $1.24 - Non-GAAP earnings per share: $1.70 MOUNTAIN VIEW, Calif., May 19, 2021 /PRNewswire/ -- Synopsys, Inc. (Nasdaq: SNPS) today reported results for its second quarter fiscal year 2021. Revenue for the second quarter was $1,024.3 million, compared to $861.3 million for the second quarter of fiscal 2020. \"Synopsys continues to execute very well. We delivered outstanding second quarter results, exceeding all of our key guidance metrics, and business was robust across all product groups and geographies. Market demand is strong, and we see a new wave of growth on the horizon, driven by an increasing need for highly complex, connected, specialized, and secure chips and systems,\" said Aart de Geus, chairman and co-CEO of Synopsys. \"Recent transformative technology innovations position us particularly well to enable this new era. And combined with our multi-year focus on accelerating growth and expanding non-GAAP operating margin, we continue to manage the business to drive significant long-term shareholder value. Our excellent year-to-date results, coupled with increased confidence in our business, lead us to raise our fiscal 2021 revenue, non-GAAP earnings and operating margin, and operating cash flow targets.\" GAAP Results On a generally accepted accounting principles (GAAP) basis, net income for the second quarter of fiscal 2021 was $195.1 million, or $1.24 per share, compared to $109.9 million, or $0.71 per share, for the second quarter of fiscal 2020. Non-GAAP Results On a non-GAAP basis, net income for the second quarter of fiscal 2021 was $267.1 million, or $1.70 per share, compared to non-GAAP net income of $188.3 million, or $1.22 per share, for the second quarter of fiscal 2020. For a reconciliation between GAAP and non-GAAP results, see \"GAAP to Non-GAAP Reconciliation\" and the accompanying tables below. Business Segments ',\n",
       "  'Synopsys Inc.’s SNPS second-quarter fiscal 2021 non-GAAP earnings of $1.70 per share beat the Zacks Consensus Estimate by 11.8%. Moreover, the figure improved 39.3% year over year.Further, revenues increased 18.9% year over year to $1.02 billion and surpassed the Zacks Consensus Estimate by 3.6%, driven by growth across all its business segments.The company is benefiting from the increasing demand for its products amid the rapid adoption of Big Data, faster computation and Machine Learning. Complex, connected, specialized, and secure chips and systems are gaining strong momentum, driving Synopsys’ business.Moreover, robust adoption of the company’s Verification Continuum Platform and Fusion Compiler product within the Fusion Design Platform was a major growth driver in the second quarter. Synopsys, Inc. price-consensus-eps-surprise-chart | Synopsys, Inc. Quote In the license type revenue group, Time-Based Product revenues (63.4% of total revenues) of $648.8 million were up 9.9% year over year. Maintenance and Service revenues (16.2%) improved 17.6% to $166.4 million. Upfront Product revenues (20.4%) grew 15.7% to $209.1 million.Segment-wise, Semiconductor & System Design revenues (91% of total revenues) were $930.4 million, up 20.4% year over year. Within the segment, EDA revenues (57% of revenues) were $587.6 million and IP & Systems Integration revenues (33% of revenues) came in at $339.6 million. Software Integrity revenues totaled $93.9 million, contributing approximately 9% to the top line in the reported quarter.Notably, the company updated its reportable geographical segments in the previous quarter. Geographically, Synopsys’ revenues in North America (47% of total) were $479.2 million and $106.2 million in Europe (10%). Revenues from Korea (10%), China (12%) and Other (20%) came in at $105.4 million, $125.5 million and $208.1 million, respectively.Non-GAAP operating margin was 31%, expanding 530 basis points (bps) year over year. Semiconductor & System Design delivered an adjusted operating margin of 33.2%, up 610 bps year over year,',\n",
       "  \"How much a stock's price changes over time is a significant driver for most investors. Not only can price performance impact your portfolio, but it can help you compare investment results across sectors and industries as well. Another factor that can influence investors is FOMO, or the fear of missing out, especially with tech giants and popular consumer-facing stocks. What if you'd invested in Synopsys (SNPS) ten years ago? It may not have been easy to hold on to SNPS for all that time, but if you did, how much would your investment be worth today? Synopsys' Business In-Depth With that in mind, let's take a look at Synopsys' main business drivers. Synopsys is a vendor of electronic design automation (EDA) software to the semiconductor and electronics industries. The company offers a full suite of products used in the logic synthesis and functional verification phases of chip design, including a broad array of reusable design building blocks. It also sells physical synthesis and physical design products as well as physical verification products.The company’s products are used to design a chip, from concept to the point of delivery to the manufacturer for fabrication. Synopsis provides software and hardware, which are used to develop electronic systems that incorporate chips. Additionally, the company provides Intellectual Property (IP) used in semiconductor design and manufacturing to simplify the design process and accelerate time-to-market for its customers.Synopsis reports revenues in three segments, namely Time-Based Products, Upfront Products and Maintenance and Service.Time-Based Products (64% of fiscal 2020 revenues): Segment revenues are recognized as Technology Subscription License (TSL) revenues. Under this segment, the company recognizes revenues from fees over the period of the license or as and when the installments are paid by the customer, whichever is later.Upfront Products (20%): These revenues are recognized as Term License revenues.\",\n",
       "  'Since the first-quarter results were announced on Apr 28, China Petroleum & Chemical Corporation SNP, also known as Sinopec, has seen a 3.7% rally in its share price. The outperformance was owing to the integrated energy firm’s turnaround to profit from loss in the first quarter. Another China energy giant PetroChina Company Limited PTR recently reported a swing back to profit in the March quarter from the year-ago period of loss. Sinopec reported first-quarter 2021 earnings per American Depositary Receipt (ADR) of $2.28, comparing favorably with the year-ago loss of $2.33. Moreover, revenues increased 12% year over year to $88,988 million. China Petroleum & Chemical Corporation price-consensus-eps-surprise-chart | China Petroleum & Chemical Corporation Quote The strong quarterly results were led by steady recovery in demand for refined oil products, reflecting continuing restorative growth of the China economy amid the coronavirus pandemic. Exploration and Production: In the March quarter of 2021, Sinopec’s total crude oil production dropped 3.2% year over year to 68.41 million barrels. Notably, oil production in the domestic market fell 1.4% year over year to 61.23 million barrels and overseas volume decreased 15.9% year over year to 7.18 million barrels. Natural gas volume increased 16.8% year over year to 291.60 billion cubic feet in the first quarter. Also, total oil and gas production rose 4.2% year over year to 117.03 million barrels of oil equivalent. Operating profit – earnings before interest and taxes – at this segment in the March quarter was recorded at RMB 3.1 billion, reflecting a 54.1% surge year over year on higher oil and gas production and realized prices. Refining: The company’s Refining business recorded refinery throughput of 62.52 million tons (up 16.3% year over year). It also produced 35.7 million tons of petroleum products, reflecting an 8.2% improvement from the first-quarter 2020 level.',\n",
       "  \"Synopsys (SNPS) could be a solid choice for investors given the company's remarkably improving earnings outlook. While the stock has been a strong performer lately, this trend might continue since analysts are still raising their earnings estimates for the company. The upward trend in estimate revisions for this maker of software used to test and develop chips reflects growing optimism of analysts on its earnings prospects, which should get reflected in its stock price. After all, empirical research shows a strong correlation between trends in earnings estimate revisions and near-term stock price movements. Our stock rating tool -- the Zacks Rank -- has this insight at its core. The five-grade Zacks Rank system, which ranges from a Zacks Rank #1 (Strong Buy) to a Zacks Rank #5 (Strong Sell), has an impressive externally-audited track record of outperformance, with Zacks #1 Ranked stocks generating an average annual return of +25% since 2008. Consensus earnings estimates for the next quarter and full year have moved considerably higher for Synopsys, as there has been strong agreement among the covering analysts in raising estimates. The chart below shows the evolution of forward 12-month Zacks Consensus EPS estimate: 12 Month EPS Current-Quarter Estimate Revisions For the current quarter, the company is expected to earn $1.78 per share, which is a change of +2.3% from the year-ago reported number. Over the last 30 days, the Zacks Consensus Estimate for Synopsys has increased 15.09% because three estimates have moved higher compared to no negative revisions. Current-Year Estimate Revisions The company is expected to earn $6.45 per share for the full year, which represents a change of +16.22% from the prior-year number. There has been an encouraging trend in estimate revisions for the current year as well. Over the past month, five estimates have moved up for Synopsys\",\n",
       "  '-- Population Genetics Sequencing Panel Incorporates Global Genetic Variations for Superior Study of Disease and Target Discovery -- SOUTH SAN FRANCISCO, Calif., Jun 14, 2021--(BUSINESS WIRE)--Twist Bioscience Corporation (Nasdaq: TWST), a company enabling customers to succeed through its offering of high-quality synthetic DNA using its silicon platform, today announced it collaborated with Regeneron Genetics Center LLC (RGC), a wholly-owned subsidiary of Regeneron (Nasdaq: REGN), for the production of a custom next-generation sequencing (NGS) population genetics genotyping assay. Arising from a need to incorporate the genetic differences of global populations, this assay is designed to gain new insights into disease mechanisms, identify novel drug targets, and accelerate drug discovery and development. Twist will market the assay as the Twist Diversity SNP Panel, and will make the content available to researchers globally for their population genomics studies. Genome-wide association studies using genotyping microarrays have long been a critical tool in understanding how genetic variation impacts disease. Recent reports highlight that the majority of genetic association studies completed with commercially available microarray platforms include genetic markers from people of European descent predominantly, with little global diversity. Underrepresentation of diverse populations in genomic analysis hinders the ability to fully understand disease cause and correlation and perpetuates inequality in patient care. Addressing this gap, the Twist Diversity SNP panel is inclusive of approximately 1.4 million globally-representative genetic variations known as single-nucleotide polymorphisms (SNPs). Under its new agreement with the RGC, Twist will make this product broadly available to customers beginning today. \"Leveraging Twist’s custom NGS panel design capabilities, the RGC developed a first-of-its-kind, proprietary population genotyping assay that includes DNA probes that capture globally diverse genetic sequence variations,\" said John Overton, Ph.D., vice president and RGC chief sequencing officer. \"This targeted panel integrates into our existing fully automated exome processing workflow and provides base calls',\n",
       "  'A guide to finding the right travel insurance for the summer holidays SNP Schneider-Neureither & Partner SE / Key word(s): MiscellaneousSNP Confirms Talks on the Acquisition of Software Specialist Datavard11-Jun-2021 / 18:37 CET/CESTDisclosure of an inside information acc. to Article 17 MAR of the Regulation (EU) No 596/2014, transmitted by DGAP - a service of EQS Group AG.The issuer is solely responsible for the content of this announcement. SNP Confirms Talks on the Acquisition of Software Specialist Datavard SNP Schneider-Neureither & Partner SE (ISIN: DE0007203705)\\xa0confirms that it is in advanced talks about the acquisition of 100% of the shares of Datavard AG. The outcome and timing of the talks are not yet known. In particular, the transaction is subject to final due diligence and also requires the approval of the new Board of Directors, which is to be elected at the Annual General Meeting on June 17, 2021. At this point in time, it is still unclear whether the current talks will lead to a conclusion and whether SNP SE will submit a binding offer to Datavard AG. SNP SE will provide information on further progress in accordance with the legal requirements.Contact Investor Relations SNP Schneider-Neureither & Partner SEChristoph MarxHead of Investor RelationsTelephone: +49 6221 6425 - 172E-Mail: christoph.marx@snpgroup.com 11-Jun-2021 CET/CEST The DGAP Distribution Services include Regulatory Announcements, Financial/Corporate News and Press Releases. Archive at www.dgap.de Language: English Company: SNP Schneider-Neureither & Partner SE Speyerer Str. 4 69115 Heidelberg Germany Phone: +49 6221 6425 637, +49 6221 6425 172 Fax: +49 6221 6425 20 E-mail: investor.relations@snpgroup.com Internet: www.snpgroup.com ISIN: DE0007203705 WKN: 720370 Listed: Regulated Market in Berlin, Dusseldorf, Frankfurt (Prime Standard), Hamburg, Hanover, Munich, Stuttgart, Tradegate Exchange EQS News ID: 1207243  \\xa0 End of Announcement DGAP News Service More than $8 million has been paid to settle five lawsuits']}"
      ]
     },
     "execution_count": 80,
     "metadata": {},
     "output_type": "execute_result"
    }
   ],
   "source": [
    "articles"
   ]
  },
  {
   "cell_type": "code",
   "execution_count": 81,
   "id": "ee01c919",
   "metadata": {},
   "outputs": [
    {
     "data": {
      "text/plain": [
       "'Palantir Technologies Inc (NYSE: PLTR) offered its software to the critical missions of the Department of the Air Force (DAF), Space and Missile Systems Center’s Cross-Mission Ground & Communications Enterprise (SMC/ECX), and NORAD-NORTHCOM. The aggregate firm-fixed-price award was worth $32.5 million. Palantir as Data-as-a-Service (DaaS) platform will support SMC/ECX’s Space Command and Control program element at both the National Space Defense Center and the Combined Space Operations Center. Department of the Air Force’s Project Brown Heron will utilize Palantir’s operational readiness analytics platform. Additionally, Palantir will support NORAD-NORTHCOM’s Joint All Domain Command and Control (JADC2) transformation, ingesting, and modeling high-scale data. Price action: PLTR shares traded higher by 1.35% at $21.03 in the premarket session on the last check Monday. See more from Benzinga Click here for options trades from Benzinga Palantir Stock Falls After Beating Q1 Revenue, Dip In Q2 Operating Margin Guidance © 2021 Benzinga.com. Benzinga does not provide investment advice. All rights reserved. Related Quotes The financial regulations require hedge funds and wealthy investors that exceeded the $100 million holdings threshold to file a report that shows their positions at the end of every quarter. Even though it isn’t the intention, these filings to a certain extent level the playing field for ordinary investors. The latest round of 13F filings […] EV Aircraft company Vertical Aerospace announced last week that they would go public via a SPAC merger. Below is a new list using the same criteria we used to pull this list of heavily shorted stocks during the Reddit/Robinhood mania in late January.  The biggest short squeeze in the Russell 3000 appears to be Virgin Galactic Holdings Inc.  (SPCE) which more than doubled in four weeks and was 27.82% sold short on June 11. ‘The pandemic sent my life back to the 1950s, as'"
      ]
     },
     "execution_count": 81,
     "metadata": {},
     "output_type": "execute_result"
    }
   ],
   "source": [
    "articles['PLTR'][2]"
   ]
  },
  {
   "cell_type": "markdown",
   "id": "554bc9fd",
   "metadata": {},
   "source": [
    "## summarize"
   ]
  },
  {
   "cell_type": "code",
   "execution_count": 82,
   "id": "9df0a84a",
   "metadata": {},
   "outputs": [],
   "source": [
    "def summarize(articles):\n",
    "    summaries = []\n",
    "    for article in articles:\n",
    "        input_ids = tokenizer.encode(article, return_tensors='pt')\n",
    "        output = model.generate(input_ids, max_length=55, num_beams=5, early_stopping=True)\n",
    "        summary = tokenizer.decode(output[0], skip_special_tokens=True)\n",
    "        summaries.append(summary)\n",
    "    return summaries"
   ]
  },
  {
   "cell_type": "code",
   "execution_count": 123,
   "id": "f86dc8fd",
   "metadata": {},
   "outputs": [
    {
     "data": {
      "text/plain": [
       "{'PLTR': ['Firm-fixed-price award totaling $32.5 million. Palantir to support SMC/ECX’s Space Command and Control program',\n",
       "  \"The firm's top stock buys for the quarter were Amazon.com, Palantir Technologies.\",\n",
       "  'Firm-fixed-price award was worth $32.5 million. Palantir to support Air Force’s Project Brown Heron, NORAD-NORTHCOM',\n",
       "  'Software company will provide software for advanced critical missions. Palantir reported 49% revenue growth year-over-year in Q1',\n",
       "  'Big lenders are pouring billions into software companies for long-term returns.',\n",
       "  'The contract includes a base year and an additional one-year extension option. Shares of PLTR have jumped 141.6% over the past year',\n",
       "  'The contract is valued at a total of $111 million, inclusive of options. Palantir’s platform has been used by USSOCOM in real-time mission operations',\n",
       "  'Palantir Technologies and Splunk are in the top two stocks in their sectors.',\n",
       "  'Palantir is a leading data analytics and artificial intelligence software company. Company is experiencing rapid growth across its businesses',\n",
       "  'Shares of Wendy’s Company and Palantir Technologies have been performing well.'],\n",
       " 'BB': ['Brokers expect Blackberry to return to profit next year. I think Blackberry could be on the verge of a winning streak',\n",
       "  'SEC says it is looking into signs of market manipulation. Individual investors continue to drive rally in meme-stocks',\n",
       "  \"QNX NeutrinoS is being installed in Changan Automobile's new SUV, the UNI-K.\",\n",
       "  'Well Health Technologies is a leading disruptor in the digital health revolution. Acquisition of MyHealth and planned U.S. IPO',\n",
       "  'Redditors forced hedge fund managers to square up short positions. Trading volumes are eight times BlackBerry’s average trading volume',\n",
       "  '‘Reddit Mania’ led to share rally, says analyst. AMC is still not back to where attendance was back in 2019',\n",
       "  'The product is already being used for the mass production of a new SUV called UNI-K. QNX software is being used in two new connected SUVs by Changan Automobile',\n",
       "  'I wouldn’t be so quick to continue investing in ‘pump-and-dump’ stocks.',\n",
       "  'Cybersecurity software and services company has been on a tear recently.',\n",
       "  'Earnings announcement will be made on Thursday, June 24, 2021.'],\n",
       " 'SNPS': ['Company to host earnings call on May 19, 2021 at 5:00 PM Eastern.',\n",
       "  'Study shows SNPs can be used to target genes for intervention.',\n",
       "  'Jason Schmitt, general manager, Software Integrity Group, will speak at Berenberg Thematic Software Days Conference.',\n",
       "  'Second quarter revenue was $1,024.3 million, compared to $861.3 million for second quarter of fiscal 2020.',\n",
       "  'Revenues increase 18.9% year over year, driven by growth across all business segments.',\n",
       "  'Synopsys is a leading supplier of electronic design automation (EDA) software.',\n",
       "  'integrated energy firm reported strong quarterly results. Surge in refining, exploration and production drove strong quarterly results',\n",
       "  'Estimates for next quarter and full year have moved considerably higher.',\n",
       "  'Company collaborates with RGC to develop custom next-generation sequencing (NGS). Panel includes 1.4 million globally-representative polymorphisms',\n",
       "  'SNP SE confirms that it is in advanced talks about the acquisition of Datavard AG.']}"
      ]
     },
     "execution_count": 123,
     "metadata": {},
     "output_type": "execute_result"
    }
   ],
   "source": [
    "summaries = {ticker:summarize(articles[ticker]) for ticker in monitored_tickers}\n",
    "summaries"
   ]
  },
  {
   "cell_type": "markdown",
   "id": "ae3bb735",
   "metadata": {},
   "source": [
    "## Sentiment analysis"
   ]
  },
  {
   "cell_type": "code",
   "execution_count": 84,
   "id": "33f9adf4",
   "metadata": {},
   "outputs": [
    {
     "data": {
      "application/vnd.jupyter.widget-view+json": {
       "model_id": "5bd2a300c5924f469b2150faecdbdba6",
       "version_major": 2,
       "version_minor": 0
      },
      "text/plain": [
       "Downloading:   0%|          | 0.00/629 [00:00<?, ?B/s]"
      ]
     },
     "metadata": {},
     "output_type": "display_data"
    },
    {
     "data": {
      "application/vnd.jupyter.widget-view+json": {
       "model_id": "eb6f0586886d4900a31077d1dce19e50",
       "version_major": 2,
       "version_minor": 0
      },
      "text/plain": [
       "Downloading:   0%|          | 0.00/268M [00:00<?, ?B/s]"
      ]
     },
     "metadata": {},
     "output_type": "display_data"
    },
    {
     "data": {
      "application/vnd.jupyter.widget-view+json": {
       "model_id": "86f232dd8fcd483a97f04d88e5f1cf33",
       "version_major": 2,
       "version_minor": 0
      },
      "text/plain": [
       "Downloading:   0%|          | 0.00/232k [00:00<?, ?B/s]"
      ]
     },
     "metadata": {},
     "output_type": "display_data"
    },
    {
     "data": {
      "application/vnd.jupyter.widget-view+json": {
       "model_id": "46bddcc8ed904b63b2e7cf15d70f4071",
       "version_major": 2,
       "version_minor": 0
      },
      "text/plain": [
       "Downloading:   0%|          | 0.00/48.0 [00:00<?, ?B/s]"
      ]
     },
     "metadata": {},
     "output_type": "display_data"
    }
   ],
   "source": [
    "from transformers import pipeline\n",
    "sentiment = pipeline('sentiment-analysis')"
   ]
  },
  {
   "cell_type": "code",
   "execution_count": 86,
   "id": "388e58f0",
   "metadata": {},
   "outputs": [],
   "source": [
    "scores = {ticker:sentiment(summaries[ticker]) for ticker in monitored_tickers}"
   ]
  },
  {
   "cell_type": "code",
   "execution_count": 124,
   "id": "c896ff9b",
   "metadata": {},
   "outputs": [
    {
     "data": {
      "text/plain": [
       "{'PLTR': [{'label': 'NEGATIVE', 'score': 0.9099695682525635},\n",
       "  {'label': 'NEGATIVE', 'score': 0.9482470750808716},\n",
       "  {'label': 'POSITIVE', 'score': 0.9685001969337463},\n",
       "  {'label': 'POSITIVE', 'score': 0.9863005876541138},\n",
       "  {'label': 'NEGATIVE', 'score': 0.9965274930000305},\n",
       "  {'label': 'NEGATIVE', 'score': 0.9613101482391357},\n",
       "  {'label': 'POSITIVE', 'score': 0.9307973980903625},\n",
       "  {'label': 'POSITIVE', 'score': 0.997609555721283},\n",
       "  {'label': 'POSITIVE', 'score': 0.999591052532196},\n",
       "  {'label': 'POSITIVE', 'score': 0.999779999256134}],\n",
       " 'BB': [{'label': 'NEGATIVE', 'score': 0.9924120306968689},\n",
       "  {'label': 'NEGATIVE', 'score': 0.993604838848114},\n",
       "  {'label': 'NEGATIVE', 'score': 0.9263762831687927},\n",
       "  {'label': 'POSITIVE', 'score': 0.9932146668434143},\n",
       "  {'label': 'NEGATIVE', 'score': 0.997467577457428},\n",
       "  {'label': 'NEGATIVE', 'score': 0.9942097067832947},\n",
       "  {'label': 'NEGATIVE', 'score': 0.9977350234985352},\n",
       "  {'label': 'NEGATIVE', 'score': 0.985684335231781},\n",
       "  {'label': 'POSITIVE', 'score': 0.9122214913368225},\n",
       "  {'label': 'POSITIVE', 'score': 0.9888734817504883}],\n",
       " 'SNPS': [{'label': 'POSITIVE', 'score': 0.6279511451721191},\n",
       "  {'label': 'NEGATIVE', 'score': 0.9238150119781494},\n",
       "  {'label': 'POSITIVE', 'score': 0.9932076930999756},\n",
       "  {'label': 'NEGATIVE', 'score': 0.7824428081512451},\n",
       "  {'label': 'POSITIVE', 'score': 0.9997642040252686},\n",
       "  {'label': 'POSITIVE', 'score': 0.9973182082176208},\n",
       "  {'label': 'POSITIVE', 'score': 0.9996189475059509},\n",
       "  {'label': 'POSITIVE', 'score': 0.9749597907066345},\n",
       "  {'label': 'POSITIVE', 'score': 0.9724902510643005},\n",
       "  {'label': 'POSITIVE', 'score': 0.9712622761726379}]}"
      ]
     },
     "execution_count": 124,
     "metadata": {},
     "output_type": "execute_result"
    }
   ],
   "source": [
    "scores"
   ]
  },
  {
   "cell_type": "code",
   "execution_count": 92,
   "id": "90372221",
   "metadata": {},
   "outputs": [
    {
     "name": "stdout",
     "output_type": "stream",
     "text": [
      "Estimates for next quarter and full year have moved considerably higher. POSITIVE 0.9749597907066345\n"
     ]
    }
   ],
   "source": [
    "print(summaries['SNPS'][7], scores['SNPS'][7]['label'], scores['SNPS'][7]['score'])"
   ]
  },
  {
   "cell_type": "markdown",
   "id": "687fd64b",
   "metadata": {},
   "source": [
    "## export"
   ]
  },
  {
   "cell_type": "code",
   "execution_count": 125,
   "id": "30637e21",
   "metadata": {},
   "outputs": [
    {
     "data": {
      "text/plain": [
       "{'PLTR': ['Firm-fixed-price award totaling $32.5 million. Palantir to support SMC/ECX’s Space Command and Control program',\n",
       "  \"The firm's top stock buys for the quarter were Amazon.com, Palantir Technologies.\",\n",
       "  'Firm-fixed-price award was worth $32.5 million. Palantir to support Air Force’s Project Brown Heron, NORAD-NORTHCOM',\n",
       "  'Software company will provide software for advanced critical missions. Palantir reported 49% revenue growth year-over-year in Q1',\n",
       "  'Big lenders are pouring billions into software companies for long-term returns.',\n",
       "  'The contract includes a base year and an additional one-year extension option. Shares of PLTR have jumped 141.6% over the past year',\n",
       "  'The contract is valued at a total of $111 million, inclusive of options. Palantir’s platform has been used by USSOCOM in real-time mission operations',\n",
       "  'Palantir Technologies and Splunk are in the top two stocks in their sectors.',\n",
       "  'Palantir is a leading data analytics and artificial intelligence software company. Company is experiencing rapid growth across its businesses',\n",
       "  'Shares of Wendy’s Company and Palantir Technologies have been performing well.'],\n",
       " 'BB': ['Brokers expect Blackberry to return to profit next year. I think Blackberry could be on the verge of a winning streak',\n",
       "  'SEC says it is looking into signs of market manipulation. Individual investors continue to drive rally in meme-stocks',\n",
       "  \"QNX NeutrinoS is being installed in Changan Automobile's new SUV, the UNI-K.\",\n",
       "  'Well Health Technologies is a leading disruptor in the digital health revolution. Acquisition of MyHealth and planned U.S. IPO',\n",
       "  'Redditors forced hedge fund managers to square up short positions. Trading volumes are eight times BlackBerry’s average trading volume',\n",
       "  '‘Reddit Mania’ led to share rally, says analyst. AMC is still not back to where attendance was back in 2019',\n",
       "  'The product is already being used for the mass production of a new SUV called UNI-K. QNX software is being used in two new connected SUVs by Changan Automobile',\n",
       "  'I wouldn’t be so quick to continue investing in ‘pump-and-dump’ stocks.',\n",
       "  'Cybersecurity software and services company has been on a tear recently.',\n",
       "  'Earnings announcement will be made on Thursday, June 24, 2021.'],\n",
       " 'SNPS': ['Company to host earnings call on May 19, 2021 at 5:00 PM Eastern.',\n",
       "  'Study shows SNPs can be used to target genes for intervention.',\n",
       "  'Jason Schmitt, general manager, Software Integrity Group, will speak at Berenberg Thematic Software Days Conference.',\n",
       "  'Second quarter revenue was $1,024.3 million, compared to $861.3 million for second quarter of fiscal 2020.',\n",
       "  'Revenues increase 18.9% year over year, driven by growth across all business segments.',\n",
       "  'Synopsys is a leading supplier of electronic design automation (EDA) software.',\n",
       "  'integrated energy firm reported strong quarterly results. Surge in refining, exploration and production drove strong quarterly results',\n",
       "  'Estimates for next quarter and full year have moved considerably higher.',\n",
       "  'Company collaborates with RGC to develop custom next-generation sequencing (NGS). Panel includes 1.4 million globally-representative polymorphisms',\n",
       "  'SNP SE confirms that it is in advanced talks about the acquisition of Datavard AG.']}"
      ]
     },
     "execution_count": 125,
     "metadata": {},
     "output_type": "execute_result"
    }
   ],
   "source": [
    "summaries"
   ]
  },
  {
   "cell_type": "code",
   "execution_count": 94,
   "id": "bb6ea80c",
   "metadata": {},
   "outputs": [
    {
     "data": {
      "text/plain": [
       "{'PLTR': [{'label': 'NEGATIVE', 'score': 0.9099695682525635},\n",
       "  {'label': 'NEGATIVE', 'score': 0.9482470750808716},\n",
       "  {'label': 'POSITIVE', 'score': 0.9685001969337463},\n",
       "  {'label': 'POSITIVE', 'score': 0.9863005876541138},\n",
       "  {'label': 'NEGATIVE', 'score': 0.9965274930000305},\n",
       "  {'label': 'NEGATIVE', 'score': 0.9613101482391357},\n",
       "  {'label': 'POSITIVE', 'score': 0.9307973980903625},\n",
       "  {'label': 'POSITIVE', 'score': 0.997609555721283},\n",
       "  {'label': 'POSITIVE', 'score': 0.999591052532196},\n",
       "  {'label': 'POSITIVE', 'score': 0.999779999256134}],\n",
       " 'BB': [{'label': 'NEGATIVE', 'score': 0.9924120306968689},\n",
       "  {'label': 'NEGATIVE', 'score': 0.993604838848114},\n",
       "  {'label': 'NEGATIVE', 'score': 0.9263762831687927},\n",
       "  {'label': 'POSITIVE', 'score': 0.9932146668434143},\n",
       "  {'label': 'NEGATIVE', 'score': 0.997467577457428},\n",
       "  {'label': 'NEGATIVE', 'score': 0.9942097067832947},\n",
       "  {'label': 'NEGATIVE', 'score': 0.9977350234985352},\n",
       "  {'label': 'NEGATIVE', 'score': 0.985684335231781},\n",
       "  {'label': 'POSITIVE', 'score': 0.9122214913368225},\n",
       "  {'label': 'POSITIVE', 'score': 0.9888734817504883}],\n",
       " 'SNPS': [{'label': 'POSITIVE', 'score': 0.6279511451721191},\n",
       "  {'label': 'NEGATIVE', 'score': 0.9238150119781494},\n",
       "  {'label': 'POSITIVE', 'score': 0.9932076930999756},\n",
       "  {'label': 'NEGATIVE', 'score': 0.7824428081512451},\n",
       "  {'label': 'POSITIVE', 'score': 0.9997642040252686},\n",
       "  {'label': 'POSITIVE', 'score': 0.9973182082176208},\n",
       "  {'label': 'POSITIVE', 'score': 0.9996189475059509},\n",
       "  {'label': 'POSITIVE', 'score': 0.9749597907066345},\n",
       "  {'label': 'POSITIVE', 'score': 0.9724902510643005},\n",
       "  {'label': 'POSITIVE', 'score': 0.9712622761726379}]}"
      ]
     },
     "execution_count": 94,
     "metadata": {},
     "output_type": "execute_result"
    }
   ],
   "source": [
    "scores"
   ]
  },
  {
   "cell_type": "code",
   "execution_count": 95,
   "id": "f39449b8",
   "metadata": {},
   "outputs": [
    {
     "data": {
      "text/plain": [
       "{'PLTR': ['https://finance.yahoo.com/news/palantir-space-force-expand-partnership-105900988.html',\n",
       "  'https://finance.yahoo.com/news/george-soros-firm-finally-exits-230142049.html',\n",
       "  'https://finance.yahoo.com/news/palantir-technologies-strikes-32-5m-120110104.html',\n",
       "  'https://finance.yahoo.com/news/palantir-strengthens-ties-u-space-075736424.html',\n",
       "  'https://finance.yahoo.com/news/10-best-saas-stocks-buy-170819461.html',\n",
       "  'https://finance.yahoo.com/news/palantir-technologies-wins-united-states-170328779.html',\n",
       "  'https://finance.yahoo.com/news/palantir-awarded-111m-contract-mission-105900419.html',\n",
       "  'https://finance.yahoo.com/news/palantir-vs-splunk-data-analytics-164334452.html',\n",
       "  'https://finance.yahoo.com/news/palantir-could-dominate-data-field-105336199.html',\n",
       "  'https://finance.yahoo.com/news/better-meme-stock-wendys-palantir-132440594.html'],\n",
       " 'BB': ['https://uk.finance.yahoo.com/news/blackberry-bb-share-price-explode-144613189.html',\n",
       "  'https://finance.yahoo.com/news/1-meme-stock-surge-lifts-174413990.html',\n",
       "  'https://finance.yahoo.com/news/blackberry-bitech-team-build-safe-010000530.html',\n",
       "  'https://ca.finance.yahoo.com/news/forget-blackberry-gme-well-health-193051278.html',\n",
       "  'https://ca.finance.yahoo.com/news/blackberry-tsx-bb-stock-book-190025074.html',\n",
       "  'https://finance.yahoo.com/video/meme-stock-frenzy-outcome-positive-152424294.html',\n",
       "  'https://finance.yahoo.com/news/blackberry-bb-partners-bitech-digital-125812985.html',\n",
       "  'https://ca.finance.yahoo.com/news/blackberry-stock-tsx-bb-bubble-124502106.html',\n",
       "  'https://finance.yahoo.com/news/blackberry-bb-outpaces-stock-market-215009960.html',\n",
       "  'https://finance.yahoo.com/news/blackberry-announce-first-quarter-fiscal-210000303.html'],\n",
       " 'SNPS': ['https://finance.yahoo.com/news/synopsys-inc-host-earnings-call-184500463.html',\n",
       "  'https://finance.yahoo.com/news/synomics-study-identifies-genomic-pathway-133200950.html',\n",
       "  'https://finance.yahoo.com/news/synopsys-speak-berenberg-thematic-software-200500634.html',\n",
       "  'https://finance.yahoo.com/news/synopsys-posts-financial-results-second-200500618.html',\n",
       "  'https://finance.yahoo.com/news/synopsys-snps-q2-earnings-revenues-153903811.html',\n",
       "  'https://finance.yahoo.com/news/invested-1000-synopsys-10-years-123012331.html',\n",
       "  'https://finance.yahoo.com/news/why-sinopec-snp-increased-3-112311267.html',\n",
       "  'https://finance.yahoo.com/news/earnings-estimates-rising-synopsys-snps-162004458.html',\n",
       "  'https://finance.yahoo.com/news/twist-bioscience-collaborates-regeneron-production-120100217.html',\n",
       "  'https://uk.finance.yahoo.com/news/snp-confirms-talks-acquisition-software-163703012.html']}"
      ]
     },
     "execution_count": 95,
     "metadata": {},
     "output_type": "execute_result"
    }
   ],
   "source": [
    "cleaned_urls"
   ]
  },
  {
   "cell_type": "code",
   "execution_count": 128,
   "id": "8a8c7b11",
   "metadata": {},
   "outputs": [],
   "source": [
    "def create_output_array(summaries, scores, urls):\n",
    "    output = []\n",
    "    for ticker in monitored_tickers:\n",
    "        for counter in range(len(summaries[ticker])):\n",
    "            output_this = [\n",
    "                ticker,\n",
    "                summaries[ticker][counter],\n",
    "                scores[ticker][counter]['label'],\n",
    "                scores[ticker][counter]['score'],\n",
    "                urls[ticker][counter]\n",
    "            ]\n",
    "            output.append(output_this)\n",
    "    return output"
   ]
  },
  {
   "cell_type": "code",
   "execution_count": 129,
   "id": "93f731bf",
   "metadata": {},
   "outputs": [],
   "source": [
    "final_output = create_output_array(summaries, scores, cleaned_urls)"
   ]
  },
  {
   "cell_type": "code",
   "execution_count": 130,
   "id": "11efb061",
   "metadata": {},
   "outputs": [],
   "source": [
    "final_output.insert(0, ['Ticker', 'Summary', 'Label', 'Confidence', 'URL'])"
   ]
  },
  {
   "cell_type": "code",
   "execution_count": 131,
   "id": "5dfe0bd7",
   "metadata": {},
   "outputs": [
    {
     "data": {
      "text/plain": [
       "[['Ticker', 'Summary', 'Label', 'Confidence', 'URL'],\n",
       " ['PLTR',\n",
       "  'Firm-fixed-price award totaling $32.5 million. Palantir to support SMC/ECX’s Space Command and Control program',\n",
       "  'NEGATIVE',\n",
       "  0.9099695682525635,\n",
       "  'https://finance.yahoo.com/news/palantir-space-force-expand-partnership-105900988.html'],\n",
       " ['PLTR',\n",
       "  \"The firm's top stock buys for the quarter were Amazon.com, Palantir Technologies.\",\n",
       "  'NEGATIVE',\n",
       "  0.9482470750808716,\n",
       "  'https://finance.yahoo.com/news/george-soros-firm-finally-exits-230142049.html'],\n",
       " ['PLTR',\n",
       "  'Firm-fixed-price award was worth $32.5 million. Palantir to support Air Force’s Project Brown Heron, NORAD-NORTHCOM',\n",
       "  'POSITIVE',\n",
       "  0.9685001969337463,\n",
       "  'https://finance.yahoo.com/news/palantir-technologies-strikes-32-5m-120110104.html'],\n",
       " ['PLTR',\n",
       "  'Software company will provide software for advanced critical missions. Palantir reported 49% revenue growth year-over-year in Q1',\n",
       "  'POSITIVE',\n",
       "  0.9863005876541138,\n",
       "  'https://finance.yahoo.com/news/palantir-strengthens-ties-u-space-075736424.html'],\n",
       " ['PLTR',\n",
       "  'Big lenders are pouring billions into software companies for long-term returns.',\n",
       "  'NEGATIVE',\n",
       "  0.9965274930000305,\n",
       "  'https://finance.yahoo.com/news/10-best-saas-stocks-buy-170819461.html'],\n",
       " ['PLTR',\n",
       "  'The contract includes a base year and an additional one-year extension option. Shares of PLTR have jumped 141.6% over the past year',\n",
       "  'NEGATIVE',\n",
       "  0.9613101482391357,\n",
       "  'https://finance.yahoo.com/news/palantir-technologies-wins-united-states-170328779.html'],\n",
       " ['PLTR',\n",
       "  'The contract is valued at a total of $111 million, inclusive of options. Palantir’s platform has been used by USSOCOM in real-time mission operations',\n",
       "  'POSITIVE',\n",
       "  0.9307973980903625,\n",
       "  'https://finance.yahoo.com/news/palantir-awarded-111m-contract-mission-105900419.html'],\n",
       " ['PLTR',\n",
       "  'Palantir Technologies and Splunk are in the top two stocks in their sectors.',\n",
       "  'POSITIVE',\n",
       "  0.997609555721283,\n",
       "  'https://finance.yahoo.com/news/palantir-vs-splunk-data-analytics-164334452.html'],\n",
       " ['PLTR',\n",
       "  'Palantir is a leading data analytics and artificial intelligence software company. Company is experiencing rapid growth across its businesses',\n",
       "  'POSITIVE',\n",
       "  0.999591052532196,\n",
       "  'https://finance.yahoo.com/news/palantir-could-dominate-data-field-105336199.html'],\n",
       " ['PLTR',\n",
       "  'Shares of Wendy’s Company and Palantir Technologies have been performing well.',\n",
       "  'POSITIVE',\n",
       "  0.999779999256134,\n",
       "  'https://finance.yahoo.com/news/better-meme-stock-wendys-palantir-132440594.html'],\n",
       " ['BB',\n",
       "  'Brokers expect Blackberry to return to profit next year. I think Blackberry could be on the verge of a winning streak',\n",
       "  'NEGATIVE',\n",
       "  0.9924120306968689,\n",
       "  'https://uk.finance.yahoo.com/news/blackberry-bb-share-price-explode-144613189.html'],\n",
       " ['BB',\n",
       "  'SEC says it is looking into signs of market manipulation. Individual investors continue to drive rally in meme-stocks',\n",
       "  'NEGATIVE',\n",
       "  0.993604838848114,\n",
       "  'https://finance.yahoo.com/news/1-meme-stock-surge-lifts-174413990.html'],\n",
       " ['BB',\n",
       "  \"QNX NeutrinoS is being installed in Changan Automobile's new SUV, the UNI-K.\",\n",
       "  'NEGATIVE',\n",
       "  0.9263762831687927,\n",
       "  'https://finance.yahoo.com/news/blackberry-bitech-team-build-safe-010000530.html'],\n",
       " ['BB',\n",
       "  'Well Health Technologies is a leading disruptor in the digital health revolution. Acquisition of MyHealth and planned U.S. IPO',\n",
       "  'POSITIVE',\n",
       "  0.9932146668434143,\n",
       "  'https://ca.finance.yahoo.com/news/forget-blackberry-gme-well-health-193051278.html'],\n",
       " ['BB',\n",
       "  'Redditors forced hedge fund managers to square up short positions. Trading volumes are eight times BlackBerry’s average trading volume',\n",
       "  'NEGATIVE',\n",
       "  0.997467577457428,\n",
       "  'https://ca.finance.yahoo.com/news/blackberry-tsx-bb-stock-book-190025074.html'],\n",
       " ['BB',\n",
       "  '‘Reddit Mania’ led to share rally, says analyst. AMC is still not back to where attendance was back in 2019',\n",
       "  'NEGATIVE',\n",
       "  0.9942097067832947,\n",
       "  'https://finance.yahoo.com/video/meme-stock-frenzy-outcome-positive-152424294.html'],\n",
       " ['BB',\n",
       "  'The product is already being used for the mass production of a new SUV called UNI-K. QNX software is being used in two new connected SUVs by Changan Automobile',\n",
       "  'NEGATIVE',\n",
       "  0.9977350234985352,\n",
       "  'https://finance.yahoo.com/news/blackberry-bb-partners-bitech-digital-125812985.html'],\n",
       " ['BB',\n",
       "  'I wouldn’t be so quick to continue investing in ‘pump-and-dump’ stocks.',\n",
       "  'NEGATIVE',\n",
       "  0.985684335231781,\n",
       "  'https://ca.finance.yahoo.com/news/blackberry-stock-tsx-bb-bubble-124502106.html'],\n",
       " ['BB',\n",
       "  'Cybersecurity software and services company has been on a tear recently.',\n",
       "  'POSITIVE',\n",
       "  0.9122214913368225,\n",
       "  'https://finance.yahoo.com/news/blackberry-bb-outpaces-stock-market-215009960.html'],\n",
       " ['BB',\n",
       "  'Earnings announcement will be made on Thursday, June 24, 2021.',\n",
       "  'POSITIVE',\n",
       "  0.9888734817504883,\n",
       "  'https://finance.yahoo.com/news/blackberry-announce-first-quarter-fiscal-210000303.html'],\n",
       " ['SNPS',\n",
       "  'Company to host earnings call on May 19, 2021 at 5:00 PM Eastern.',\n",
       "  'POSITIVE',\n",
       "  0.6279511451721191,\n",
       "  'https://finance.yahoo.com/news/synopsys-inc-host-earnings-call-184500463.html'],\n",
       " ['SNPS',\n",
       "  'Study shows SNPs can be used to target genes for intervention.',\n",
       "  'NEGATIVE',\n",
       "  0.9238150119781494,\n",
       "  'https://finance.yahoo.com/news/synomics-study-identifies-genomic-pathway-133200950.html'],\n",
       " ['SNPS',\n",
       "  'Jason Schmitt, general manager, Software Integrity Group, will speak at Berenberg Thematic Software Days Conference.',\n",
       "  'POSITIVE',\n",
       "  0.9932076930999756,\n",
       "  'https://finance.yahoo.com/news/synopsys-speak-berenberg-thematic-software-200500634.html'],\n",
       " ['SNPS',\n",
       "  'Second quarter revenue was $1,024.3 million, compared to $861.3 million for second quarter of fiscal 2020.',\n",
       "  'NEGATIVE',\n",
       "  0.7824428081512451,\n",
       "  'https://finance.yahoo.com/news/synopsys-posts-financial-results-second-200500618.html'],\n",
       " ['SNPS',\n",
       "  'Revenues increase 18.9% year over year, driven by growth across all business segments.',\n",
       "  'POSITIVE',\n",
       "  0.9997642040252686,\n",
       "  'https://finance.yahoo.com/news/synopsys-snps-q2-earnings-revenues-153903811.html'],\n",
       " ['SNPS',\n",
       "  'Synopsys is a leading supplier of electronic design automation (EDA) software.',\n",
       "  'POSITIVE',\n",
       "  0.9973182082176208,\n",
       "  'https://finance.yahoo.com/news/invested-1000-synopsys-10-years-123012331.html'],\n",
       " ['SNPS',\n",
       "  'integrated energy firm reported strong quarterly results. Surge in refining, exploration and production drove strong quarterly results',\n",
       "  'POSITIVE',\n",
       "  0.9996189475059509,\n",
       "  'https://finance.yahoo.com/news/why-sinopec-snp-increased-3-112311267.html'],\n",
       " ['SNPS',\n",
       "  'Estimates for next quarter and full year have moved considerably higher.',\n",
       "  'POSITIVE',\n",
       "  0.9749597907066345,\n",
       "  'https://finance.yahoo.com/news/earnings-estimates-rising-synopsys-snps-162004458.html'],\n",
       " ['SNPS',\n",
       "  'Company collaborates with RGC to develop custom next-generation sequencing (NGS). Panel includes 1.4 million globally-representative polymorphisms',\n",
       "  'POSITIVE',\n",
       "  0.9724902510643005,\n",
       "  'https://finance.yahoo.com/news/twist-bioscience-collaborates-regeneron-production-120100217.html'],\n",
       " ['SNPS',\n",
       "  'SNP SE confirms that it is in advanced talks about the acquisition of Datavard AG.',\n",
       "  'POSITIVE',\n",
       "  0.9712622761726379,\n",
       "  'https://uk.finance.yahoo.com/news/snp-confirms-talks-acquisition-software-163703012.html']]"
      ]
     },
     "execution_count": 131,
     "metadata": {},
     "output_type": "execute_result"
    }
   ],
   "source": [
    "final_output"
   ]
  },
  {
   "cell_type": "code",
   "execution_count": 132,
   "id": "759e1702",
   "metadata": {},
   "outputs": [],
   "source": [
    "import csv\n",
    "with open('ticketsummaries.csv', mode='w', newline='') as f:\n",
    "    csv_writer = csv.writer(f, delimiter=',', quotechar='\"', quoting=csv.QUOTE_MINIMAL)\n",
    "    csv_writer.writerows(final_output)"
   ]
  },
  {
   "cell_type": "code",
   "execution_count": null,
   "id": "ae8c22dd",
   "metadata": {},
   "outputs": [],
   "source": []
  },
  {
   "cell_type": "code",
   "execution_count": null,
   "id": "8673d013",
   "metadata": {},
   "outputs": [],
   "source": []
  },
  {
   "cell_type": "code",
   "execution_count": null,
   "id": "f8e3a299",
   "metadata": {},
   "outputs": [],
   "source": []
  }
 ],
 "metadata": {
  "kernelspec": {
   "display_name": "Python Kaggle Comp",
   "language": "python",
   "name": "kaggle"
  },
  "language_info": {
   "codemirror_mode": {
    "name": "ipython",
    "version": 3
   },
   "file_extension": ".py",
   "mimetype": "text/x-python",
   "name": "python",
   "nbconvert_exporter": "python",
   "pygments_lexer": "ipython3",
   "version": "3.8.3"
  }
 },
 "nbformat": 4,
 "nbformat_minor": 5
}
